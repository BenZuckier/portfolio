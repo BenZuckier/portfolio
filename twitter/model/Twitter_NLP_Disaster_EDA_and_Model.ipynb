{
  "nbformat": 4,
  "nbformat_minor": 0,
  "metadata": {
    "colab": {
      "name": "Twitter NLP Disaster EDA and Model",
      "provenance": [],
      "collapsed_sections": [
        "_mQaaoOGY_P3"
      ]
    },
    "kernelspec": {
      "name": "python3",
      "display_name": "Python 3"
    },
    "language_info": {
      "name": "python"
    },
    "accelerator": "GPU"
  },
  "cells": [
    {
      "cell_type": "markdown",
      "metadata": {
        "id": "0rFeHLbyYVNy"
      },
      "source": [
        "# Setup"
      ]
    },
    {
      "cell_type": "code",
      "metadata": {
        "id": "b9IiZFrsYSya"
      },
      "source": [
        "from sklearn.model_selection import train_test_split\n",
        "import numpy as np\n",
        "import pandas as pd\n",
        "from matplotlib import pyplot as plt \n",
        "import seaborn as sns\n",
        "%matplotlib inline\n",
        "\n",
        "np.random.seed(42)"
      ],
      "execution_count": null,
      "outputs": []
    },
    {
      "cell_type": "code",
      "metadata": {
        "colab": {
          "base_uri": "https://localhost:8080/"
        },
        "id": "Q5Z4H0jSVEL8",
        "outputId": "0769e534-7fe3-4e6b-b80d-2ff21de28781"
      },
      "source": [
        "!pip install kaggle --upgrade\n",
        "print (\"writing kaggle\")\n",
        "!echo \"{\\\"username\\\":\\\"USERNAME\\\",\\\"key\\\":\\\"KEYYYYYYYYYYY\\\"}\" > kaggle.json\n",
        "!sudo mkdir -p ~/.kaggle\n",
        "!sudo cp /content/kaggle.json ~/.kaggle/kaggle.json\n",
        "print (\"got kaggle json copied\")\n",
        "!chmod 600 /root/.kaggle/kaggle.json\n",
        "!kaggle --version\n",
        "!kaggle competitions download -c nlp-getting-started"
      ],
      "execution_count": null,
      "outputs": [
        {
          "output_type": "stream",
          "name": "stdout",
          "text": [
            "Requirement already satisfied: kaggle in /usr/local/lib/python3.7/dist-packages (1.5.12)\n",
            "Requirement already satisfied: certifi in /usr/local/lib/python3.7/dist-packages (from kaggle) (2021.10.8)\n",
            "Requirement already satisfied: six>=1.10 in /usr/local/lib/python3.7/dist-packages (from kaggle) (1.15.0)\n",
            "Requirement already satisfied: python-slugify in /usr/local/lib/python3.7/dist-packages (from kaggle) (5.0.2)\n",
            "Requirement already satisfied: python-dateutil in /usr/local/lib/python3.7/dist-packages (from kaggle) (2.8.2)\n",
            "Requirement already satisfied: tqdm in /usr/local/lib/python3.7/dist-packages (from kaggle) (4.62.3)\n",
            "Requirement already satisfied: urllib3 in /usr/local/lib/python3.7/dist-packages (from kaggle) (1.24.3)\n",
            "Requirement already satisfied: requests in /usr/local/lib/python3.7/dist-packages (from kaggle) (2.23.0)\n",
            "Requirement already satisfied: text-unidecode>=1.3 in /usr/local/lib/python3.7/dist-packages (from python-slugify->kaggle) (1.3)\n",
            "Requirement already satisfied: chardet<4,>=3.0.2 in /usr/local/lib/python3.7/dist-packages (from requests->kaggle) (3.0.4)\n",
            "Requirement already satisfied: idna<3,>=2.5 in /usr/local/lib/python3.7/dist-packages (from requests->kaggle) (2.10)\n",
            "writing kaggle\n",
            "got kaggle json copied\n",
            "Kaggle API 1.5.4\n",
            "Warning: Looks like you're using an outdated API Version, please consider updating (server 1.5.12 / client 1.5.4)\n",
            "Downloading sample_submission.csv to /content\n",
            "  0% 0.00/22.2k [00:00<?, ?B/s]\n",
            "100% 22.2k/22.2k [00:00<00:00, 8.02MB/s]\n",
            "Downloading test.csv to /content\n",
            "  0% 0.00/411k [00:00<?, ?B/s]\n",
            "100% 411k/411k [00:00<00:00, 57.6MB/s]\n",
            "Downloading train.csv to /content\n",
            "  0% 0.00/965k [00:00<?, ?B/s]\n",
            "100% 965k/965k [00:00<00:00, 64.7MB/s]\n"
          ]
        }
      ]
    },
    {
      "cell_type": "markdown",
      "metadata": {
        "id": "_mQaaoOGY_P3"
      },
      "source": [
        "# EDA from last week"
      ]
    },
    {
      "cell_type": "code",
      "metadata": {
        "colab": {
          "base_uri": "https://localhost:8080/"
        },
        "id": "gCQxU7gyY-mB",
        "outputId": "07649f90-b5e9-4e19-eaaa-219c1a688d67"
      },
      "source": [
        "train_df = pd.read_csv(\"train.csv\")\n",
        "train_df"
      ],
      "execution_count": null,
      "outputs": [
        {
          "output_type": "execute_result",
          "data": {
            "text/html": [
              "<div>\n",
              "<style scoped>\n",
              "    .dataframe tbody tr th:only-of-type {\n",
              "        vertical-align: middle;\n",
              "    }\n",
              "\n",
              "    .dataframe tbody tr th {\n",
              "        vertical-align: top;\n",
              "    }\n",
              "\n",
              "    .dataframe thead th {\n",
              "        text-align: right;\n",
              "    }\n",
              "</style>\n",
              "<table border=\"1\" class=\"dataframe\">\n",
              "  <thead>\n",
              "    <tr style=\"text-align: right;\">\n",
              "      <th></th>\n",
              "      <th>id</th>\n",
              "      <th>keyword</th>\n",
              "      <th>location</th>\n",
              "      <th>text</th>\n",
              "      <th>target</th>\n",
              "    </tr>\n",
              "  </thead>\n",
              "  <tbody>\n",
              "    <tr>\n",
              "      <th>0</th>\n",
              "      <td>1</td>\n",
              "      <td>NaN</td>\n",
              "      <td>NaN</td>\n",
              "      <td>Our Deeds are the Reason of this #earthquake M...</td>\n",
              "      <td>1</td>\n",
              "    </tr>\n",
              "    <tr>\n",
              "      <th>1</th>\n",
              "      <td>4</td>\n",
              "      <td>NaN</td>\n",
              "      <td>NaN</td>\n",
              "      <td>Forest fire near La Ronge Sask. Canada</td>\n",
              "      <td>1</td>\n",
              "    </tr>\n",
              "    <tr>\n",
              "      <th>2</th>\n",
              "      <td>5</td>\n",
              "      <td>NaN</td>\n",
              "      <td>NaN</td>\n",
              "      <td>All residents asked to 'shelter in place' are ...</td>\n",
              "      <td>1</td>\n",
              "    </tr>\n",
              "    <tr>\n",
              "      <th>3</th>\n",
              "      <td>6</td>\n",
              "      <td>NaN</td>\n",
              "      <td>NaN</td>\n",
              "      <td>13,000 people receive #wildfires evacuation or...</td>\n",
              "      <td>1</td>\n",
              "    </tr>\n",
              "    <tr>\n",
              "      <th>4</th>\n",
              "      <td>7</td>\n",
              "      <td>NaN</td>\n",
              "      <td>NaN</td>\n",
              "      <td>Just got sent this photo from Ruby #Alaska as ...</td>\n",
              "      <td>1</td>\n",
              "    </tr>\n",
              "    <tr>\n",
              "      <th>...</th>\n",
              "      <td>...</td>\n",
              "      <td>...</td>\n",
              "      <td>...</td>\n",
              "      <td>...</td>\n",
              "      <td>...</td>\n",
              "    </tr>\n",
              "    <tr>\n",
              "      <th>7608</th>\n",
              "      <td>10869</td>\n",
              "      <td>NaN</td>\n",
              "      <td>NaN</td>\n",
              "      <td>Two giant cranes holding a bridge collapse int...</td>\n",
              "      <td>1</td>\n",
              "    </tr>\n",
              "    <tr>\n",
              "      <th>7609</th>\n",
              "      <td>10870</td>\n",
              "      <td>NaN</td>\n",
              "      <td>NaN</td>\n",
              "      <td>@aria_ahrary @TheTawniest The out of control w...</td>\n",
              "      <td>1</td>\n",
              "    </tr>\n",
              "    <tr>\n",
              "      <th>7610</th>\n",
              "      <td>10871</td>\n",
              "      <td>NaN</td>\n",
              "      <td>NaN</td>\n",
              "      <td>M1.94 [01:04 UTC]?5km S of Volcano Hawaii. htt...</td>\n",
              "      <td>1</td>\n",
              "    </tr>\n",
              "    <tr>\n",
              "      <th>7611</th>\n",
              "      <td>10872</td>\n",
              "      <td>NaN</td>\n",
              "      <td>NaN</td>\n",
              "      <td>Police investigating after an e-bike collided ...</td>\n",
              "      <td>1</td>\n",
              "    </tr>\n",
              "    <tr>\n",
              "      <th>7612</th>\n",
              "      <td>10873</td>\n",
              "      <td>NaN</td>\n",
              "      <td>NaN</td>\n",
              "      <td>The Latest: More Homes Razed by Northern Calif...</td>\n",
              "      <td>1</td>\n",
              "    </tr>\n",
              "  </tbody>\n",
              "</table>\n",
              "<p>7613 rows × 5 columns</p>\n",
              "</div>"
            ],
            "text/plain": [
              "         id keyword  ...                                               text target\n",
              "0         1     NaN  ...  Our Deeds are the Reason of this #earthquake M...      1\n",
              "1         4     NaN  ...             Forest fire near La Ronge Sask. Canada      1\n",
              "2         5     NaN  ...  All residents asked to 'shelter in place' are ...      1\n",
              "3         6     NaN  ...  13,000 people receive #wildfires evacuation or...      1\n",
              "4         7     NaN  ...  Just got sent this photo from Ruby #Alaska as ...      1\n",
              "...     ...     ...  ...                                                ...    ...\n",
              "7608  10869     NaN  ...  Two giant cranes holding a bridge collapse int...      1\n",
              "7609  10870     NaN  ...  @aria_ahrary @TheTawniest The out of control w...      1\n",
              "7610  10871     NaN  ...  M1.94 [01:04 UTC]?5km S of Volcano Hawaii. htt...      1\n",
              "7611  10872     NaN  ...  Police investigating after an e-bike collided ...      1\n",
              "7612  10873     NaN  ...  The Latest: More Homes Razed by Northern Calif...      1\n",
              "\n",
              "[7613 rows x 5 columns]"
            ]
          },
          "metadata": {},
          "execution_count": 3
        }
      ]
    },
    {
      "cell_type": "code",
      "metadata": {
        "id": "_cnBQrjCZJ6v"
      },
      "source": [
        "# %%capture\n",
        "# ! pip install https://github.com/pandas-profiling/pandas-profiling/archive/master.zip"
      ],
      "execution_count": null,
      "outputs": []
    },
    {
      "cell_type": "code",
      "metadata": {
        "id": "mTDKx2SFZnYL"
      },
      "source": [
        "# import pandas_profiling as pdpf\n",
        "# train_df.profile_report()"
      ],
      "execution_count": null,
      "outputs": []
    },
    {
      "cell_type": "code",
      "metadata": {
        "colab": {
          "base_uri": "https://localhost:8080/"
        },
        "id": "wn7T4CPxZw8i",
        "outputId": "8656b6cd-2851-4c7e-8a0a-2217a92d0866"
      },
      "source": [
        "train_df.info()"
      ],
      "execution_count": null,
      "outputs": [
        {
          "output_type": "stream",
          "name": "stdout",
          "text": [
            "<class 'pandas.core.frame.DataFrame'>\n",
            "RangeIndex: 7613 entries, 0 to 7612\n",
            "Data columns (total 5 columns):\n",
            " #   Column    Non-Null Count  Dtype \n",
            "---  ------    --------------  ----- \n",
            " 0   id        7613 non-null   int64 \n",
            " 1   keyword   7552 non-null   object\n",
            " 2   location  5080 non-null   object\n",
            " 3   text      7613 non-null   object\n",
            " 4   target    7613 non-null   int64 \n",
            "dtypes: int64(2), object(3)\n",
            "memory usage: 297.5+ KB\n"
          ]
        }
      ]
    },
    {
      "cell_type": "code",
      "metadata": {
        "colab": {
          "base_uri": "https://localhost:8080/"
        },
        "id": "qkqeiF8va-Rm",
        "outputId": "eb7acb70-edf9-43d0-fe5a-877a69c44b2a"
      },
      "source": [
        "train_df.describe()"
      ],
      "execution_count": null,
      "outputs": [
        {
          "output_type": "execute_result",
          "data": {
            "text/html": [
              "<div>\n",
              "<style scoped>\n",
              "    .dataframe tbody tr th:only-of-type {\n",
              "        vertical-align: middle;\n",
              "    }\n",
              "\n",
              "    .dataframe tbody tr th {\n",
              "        vertical-align: top;\n",
              "    }\n",
              "\n",
              "    .dataframe thead th {\n",
              "        text-align: right;\n",
              "    }\n",
              "</style>\n",
              "<table border=\"1\" class=\"dataframe\">\n",
              "  <thead>\n",
              "    <tr style=\"text-align: right;\">\n",
              "      <th></th>\n",
              "      <th>id</th>\n",
              "      <th>target</th>\n",
              "    </tr>\n",
              "  </thead>\n",
              "  <tbody>\n",
              "    <tr>\n",
              "      <th>count</th>\n",
              "      <td>7613.000000</td>\n",
              "      <td>7613.00000</td>\n",
              "    </tr>\n",
              "    <tr>\n",
              "      <th>mean</th>\n",
              "      <td>5441.934848</td>\n",
              "      <td>0.42966</td>\n",
              "    </tr>\n",
              "    <tr>\n",
              "      <th>std</th>\n",
              "      <td>3137.116090</td>\n",
              "      <td>0.49506</td>\n",
              "    </tr>\n",
              "    <tr>\n",
              "      <th>min</th>\n",
              "      <td>1.000000</td>\n",
              "      <td>0.00000</td>\n",
              "    </tr>\n",
              "    <tr>\n",
              "      <th>25%</th>\n",
              "      <td>2734.000000</td>\n",
              "      <td>0.00000</td>\n",
              "    </tr>\n",
              "    <tr>\n",
              "      <th>50%</th>\n",
              "      <td>5408.000000</td>\n",
              "      <td>0.00000</td>\n",
              "    </tr>\n",
              "    <tr>\n",
              "      <th>75%</th>\n",
              "      <td>8146.000000</td>\n",
              "      <td>1.00000</td>\n",
              "    </tr>\n",
              "    <tr>\n",
              "      <th>max</th>\n",
              "      <td>10873.000000</td>\n",
              "      <td>1.00000</td>\n",
              "    </tr>\n",
              "  </tbody>\n",
              "</table>\n",
              "</div>"
            ],
            "text/plain": [
              "                 id      target\n",
              "count   7613.000000  7613.00000\n",
              "mean    5441.934848     0.42966\n",
              "std     3137.116090     0.49506\n",
              "min        1.000000     0.00000\n",
              "25%     2734.000000     0.00000\n",
              "50%     5408.000000     0.00000\n",
              "75%     8146.000000     1.00000\n",
              "max    10873.000000     1.00000"
            ]
          },
          "metadata": {},
          "execution_count": 7
        }
      ]
    },
    {
      "cell_type": "code",
      "metadata": {
        "colab": {
          "base_uri": "https://localhost:8080/"
        },
        "id": "BTc1X39Fb3TG",
        "outputId": "d2225552-174a-4a88-9c15-a0a5ec73f15b"
      },
      "source": [
        "target_counts = train_df.target.value_counts()\n",
        "sns.barplot(target_counts.index, target_counts)\n",
        "plt.gca()\n",
        "plt.ylabel('occurences')\n",
        "plt.xlabel('target val')\n",
        "plt.show()"
      ],
      "execution_count": null,
      "outputs": [
        {
          "output_type": "stream",
          "name": "stderr",
          "text": [
            "/usr/local/lib/python3.7/dist-packages/seaborn/_decorators.py:43: FutureWarning: Pass the following variables as keyword args: x, y. From version 0.12, the only valid positional argument will be `data`, and passing other arguments without an explicit keyword will result in an error or misinterpretation.\n",
            "  FutureWarning\n"
          ]
        },
        {
          "output_type": "display_data",
          "data": {
            "image/png": "[encoded data removed]",
            "text/plain": [
              "<Figure size 432x288 with 1 Axes>"
            ]
          },
          "metadata": {
            "needs_background": "light"
          }
        }
      ]
    },
    {
      "cell_type": "code",
      "metadata": {
        "colab": {
          "base_uri": "https://localhost:8080/"
        },
        "id": "FzrbslEycPPx",
        "outputId": "a7195231-9bfe-4c40-949d-966b2147af3b"
      },
      "source": [
        "def null_counts(df: pd.DataFrame):\n",
        "    tot = df.isnull().sum().sort_values(ascending=False)\n",
        "    perc = round(tot/df.shape[0]*100,2)\n",
        "    return pd.concat([tot,perc],axis=1,keys=['Total','Percentage'])\n",
        "\n",
        "null_counts(train_df)"
      ],
      "execution_count": null,
      "outputs": [
        {
          "output_type": "execute_result",
          "data": {
            "text/html": [
              "<div>\n",
              "<style scoped>\n",
              "    .dataframe tbody tr th:only-of-type {\n",
              "        vertical-align: middle;\n",
              "    }\n",
              "\n",
              "    .dataframe tbody tr th {\n",
              "        vertical-align: top;\n",
              "    }\n",
              "\n",
              "    .dataframe thead th {\n",
              "        text-align: right;\n",
              "    }\n",
              "</style>\n",
              "<table border=\"1\" class=\"dataframe\">\n",
              "  <thead>\n",
              "    <tr style=\"text-align: right;\">\n",
              "      <th></th>\n",
              "      <th>Total</th>\n",
              "      <th>Percentage</th>\n",
              "    </tr>\n",
              "  </thead>\n",
              "  <tbody>\n",
              "    <tr>\n",
              "      <th>location</th>\n",
              "      <td>2533</td>\n",
              "      <td>33.27</td>\n",
              "    </tr>\n",
              "    <tr>\n",
              "      <th>keyword</th>\n",
              "      <td>61</td>\n",
              "      <td>0.80</td>\n",
              "    </tr>\n",
              "    <tr>\n",
              "      <th>target</th>\n",
              "      <td>0</td>\n",
              "      <td>0.00</td>\n",
              "    </tr>\n",
              "    <tr>\n",
              "      <th>text</th>\n",
              "      <td>0</td>\n",
              "      <td>0.00</td>\n",
              "    </tr>\n",
              "    <tr>\n",
              "      <th>id</th>\n",
              "      <td>0</td>\n",
              "      <td>0.00</td>\n",
              "    </tr>\n",
              "  </tbody>\n",
              "</table>\n",
              "</div>"
            ],
            "text/plain": [
              "          Total  Percentage\n",
              "location   2533       33.27\n",
              "keyword      61        0.80\n",
              "target        0        0.00\n",
              "text          0        0.00\n",
              "id            0        0.00"
            ]
          },
          "metadata": {},
          "execution_count": 9
        }
      ]
    },
    {
      "cell_type": "markdown",
      "metadata": {
        "id": "t3UQ0Ldw9KpR"
      },
      "source": [
        "too many null locations"
      ]
    },
    {
      "cell_type": "code",
      "metadata": {
        "id": "S8Sn_e9HeGzb",
        "colab": {
          "base_uri": "https://localhost:8080/"
        },
        "outputId": "adff1165-0082-44d6-d829-dc692d1952ff"
      },
      "source": [
        "null_loc_count = train_df.location.isna().sum()\n",
        "print(f'{null_loc_count} null locations\\n')\n",
        "no_null_loc = train_df.dropna(subset=['location'])\n",
        "display(no_null_loc)\n",
        "null_loc_count = no_null_loc.location.isna().sum()\n",
        "print(f'{null_loc_count} null locations\\n')"
      ],
      "execution_count": null,
      "outputs": [
        {
          "output_type": "stream",
          "name": "stdout",
          "text": [
            "2533 null locations\n",
            "\n"
          ]
        },
        {
          "output_type": "display_data",
          "data": {
            "text/html": [
              "<div>\n",
              "<style scoped>\n",
              "    .dataframe tbody tr th:only-of-type {\n",
              "        vertical-align: middle;\n",
              "    }\n",
              "\n",
              "    .dataframe tbody tr th {\n",
              "        vertical-align: top;\n",
              "    }\n",
              "\n",
              "    .dataframe thead th {\n",
              "        text-align: right;\n",
              "    }\n",
              "</style>\n",
              "<table border=\"1\" class=\"dataframe\">\n",
              "  <thead>\n",
              "    <tr style=\"text-align: right;\">\n",
              "      <th></th>\n",
              "      <th>id</th>\n",
              "      <th>keyword</th>\n",
              "      <th>location</th>\n",
              "      <th>text</th>\n",
              "      <th>target</th>\n",
              "    </tr>\n",
              "  </thead>\n",
              "  <tbody>\n",
              "    <tr>\n",
              "      <th>31</th>\n",
              "      <td>48</td>\n",
              "      <td>ablaze</td>\n",
              "      <td>Birmingham</td>\n",
              "      <td>@bbcmtd Wholesale Markets ablaze http://t.co/l...</td>\n",
              "      <td>1</td>\n",
              "    </tr>\n",
              "    <tr>\n",
              "      <th>32</th>\n",
              "      <td>49</td>\n",
              "      <td>ablaze</td>\n",
              "      <td>Est. September 2012 - Bristol</td>\n",
              "      <td>We always try to bring the heavy. #metal #RT h...</td>\n",
              "      <td>0</td>\n",
              "    </tr>\n",
              "    <tr>\n",
              "      <th>33</th>\n",
              "      <td>50</td>\n",
              "      <td>ablaze</td>\n",
              "      <td>AFRICA</td>\n",
              "      <td>#AFRICANBAZE: Breaking news:Nigeria flag set a...</td>\n",
              "      <td>1</td>\n",
              "    </tr>\n",
              "    <tr>\n",
              "      <th>34</th>\n",
              "      <td>52</td>\n",
              "      <td>ablaze</td>\n",
              "      <td>Philadelphia, PA</td>\n",
              "      <td>Crying out for more! Set me ablaze</td>\n",
              "      <td>0</td>\n",
              "    </tr>\n",
              "    <tr>\n",
              "      <th>35</th>\n",
              "      <td>53</td>\n",
              "      <td>ablaze</td>\n",
              "      <td>London, UK</td>\n",
              "      <td>On plus side LOOK AT THE SKY LAST NIGHT IT WAS...</td>\n",
              "      <td>0</td>\n",
              "    </tr>\n",
              "    <tr>\n",
              "      <th>...</th>\n",
              "      <td>...</td>\n",
              "      <td>...</td>\n",
              "      <td>...</td>\n",
              "      <td>...</td>\n",
              "      <td>...</td>\n",
              "    </tr>\n",
              "    <tr>\n",
              "      <th>7575</th>\n",
              "      <td>10826</td>\n",
              "      <td>wrecked</td>\n",
              "      <td>TN</td>\n",
              "      <td>On the bright side I wrecked http://t.co/uEa0t...</td>\n",
              "      <td>0</td>\n",
              "    </tr>\n",
              "    <tr>\n",
              "      <th>7577</th>\n",
              "      <td>10829</td>\n",
              "      <td>wrecked</td>\n",
              "      <td>#NewcastleuponTyne #UK</td>\n",
              "      <td>@widda16 ... He's gone. You can relax. I thoug...</td>\n",
              "      <td>0</td>\n",
              "    </tr>\n",
              "    <tr>\n",
              "      <th>7579</th>\n",
              "      <td>10831</td>\n",
              "      <td>wrecked</td>\n",
              "      <td>Vancouver, Canada</td>\n",
              "      <td>Three days off from work and they've pretty mu...</td>\n",
              "      <td>0</td>\n",
              "    </tr>\n",
              "    <tr>\n",
              "      <th>7580</th>\n",
              "      <td>10832</td>\n",
              "      <td>wrecked</td>\n",
              "      <td>London</td>\n",
              "      <td>#FX #forex #trading Cramer: Iger's 3 words tha...</td>\n",
              "      <td>0</td>\n",
              "    </tr>\n",
              "    <tr>\n",
              "      <th>7581</th>\n",
              "      <td>10833</td>\n",
              "      <td>wrecked</td>\n",
              "      <td>Lincoln</td>\n",
              "      <td>@engineshed Great atmosphere at the British Li...</td>\n",
              "      <td>0</td>\n",
              "    </tr>\n",
              "  </tbody>\n",
              "</table>\n",
              "<p>5080 rows × 5 columns</p>\n",
              "</div>"
            ],
            "text/plain": [
              "         id  keyword  ...                                               text target\n",
              "31       48   ablaze  ...  @bbcmtd Wholesale Markets ablaze http://t.co/l...      1\n",
              "32       49   ablaze  ...  We always try to bring the heavy. #metal #RT h...      0\n",
              "33       50   ablaze  ...  #AFRICANBAZE: Breaking news:Nigeria flag set a...      1\n",
              "34       52   ablaze  ...                 Crying out for more! Set me ablaze      0\n",
              "35       53   ablaze  ...  On plus side LOOK AT THE SKY LAST NIGHT IT WAS...      0\n",
              "...     ...      ...  ...                                                ...    ...\n",
              "7575  10826  wrecked  ...  On the bright side I wrecked http://t.co/uEa0t...      0\n",
              "7577  10829  wrecked  ...  @widda16 ... He's gone. You can relax. I thoug...      0\n",
              "7579  10831  wrecked  ...  Three days off from work and they've pretty mu...      0\n",
              "7580  10832  wrecked  ...  #FX #forex #trading Cramer: Iger's 3 words tha...      0\n",
              "7581  10833  wrecked  ...  @engineshed Great atmosphere at the British Li...      0\n",
              "\n",
              "[5080 rows x 5 columns]"
            ]
          },
          "metadata": {}
        },
        {
          "output_type": "stream",
          "name": "stdout",
          "text": [
            "0 null locations\n",
            "\n"
          ]
        }
      ]
    },
    {
      "cell_type": "markdown",
      "metadata": {
        "id": "mqT4tP8R9NTT"
      },
      "source": [
        "better but the locations are still a huge mess"
      ]
    },
    {
      "cell_type": "code",
      "metadata": {
        "colab": {
          "base_uri": "https://localhost:8080/"
        },
        "id": "z99c8dEp7L4P",
        "outputId": "6d2b1803-48db-4b12-8f97-1c84b540167c"
      },
      "source": [
        "def unique_values_in_column(data,feature):\n",
        "    unique_val=pd.Series(data.loc[:,feature].unique())\n",
        "    return pd.concat([unique_val],axis=1,keys=['Unique Values'])\n",
        "\n",
        "display(no_null_loc.location.describe())\n",
        "display(unique_values_in_column(no_null_loc, \"location\"))"
      ],
      "execution_count": null,
      "outputs": [
        {
          "output_type": "display_data",
          "data": {
            "text/plain": [
              "count     5080\n",
              "unique    3341\n",
              "top        USA\n",
              "freq       104\n",
              "Name: location, dtype: object"
            ]
          },
          "metadata": {}
        },
        {
          "output_type": "display_data",
          "data": {
            "text/html": [
              "<div>\n",
              "<style scoped>\n",
              "    .dataframe tbody tr th:only-of-type {\n",
              "        vertical-align: middle;\n",
              "    }\n",
              "\n",
              "    .dataframe tbody tr th {\n",
              "        vertical-align: top;\n",
              "    }\n",
              "\n",
              "    .dataframe thead th {\n",
              "        text-align: right;\n",
              "    }\n",
              "</style>\n",
              "<table border=\"1\" class=\"dataframe\">\n",
              "  <thead>\n",
              "    <tr style=\"text-align: right;\">\n",
              "      <th></th>\n",
              "      <th>Unique Values</th>\n",
              "    </tr>\n",
              "  </thead>\n",
              "  <tbody>\n",
              "    <tr>\n",
              "      <th>0</th>\n",
              "      <td>Birmingham</td>\n",
              "    </tr>\n",
              "    <tr>\n",
              "      <th>1</th>\n",
              "      <td>Est. September 2012 - Bristol</td>\n",
              "    </tr>\n",
              "    <tr>\n",
              "      <th>2</th>\n",
              "      <td>AFRICA</td>\n",
              "    </tr>\n",
              "    <tr>\n",
              "      <th>3</th>\n",
              "      <td>Philadelphia, PA</td>\n",
              "    </tr>\n",
              "    <tr>\n",
              "      <th>4</th>\n",
              "      <td>London, UK</td>\n",
              "    </tr>\n",
              "    <tr>\n",
              "      <th>...</th>\n",
              "      <td>...</td>\n",
              "    </tr>\n",
              "    <tr>\n",
              "      <th>3336</th>\n",
              "      <td>TN</td>\n",
              "    </tr>\n",
              "    <tr>\n",
              "      <th>3337</th>\n",
              "      <td>#NewcastleuponTyne #UK</td>\n",
              "    </tr>\n",
              "    <tr>\n",
              "      <th>3338</th>\n",
              "      <td>Vancouver, Canada</td>\n",
              "    </tr>\n",
              "    <tr>\n",
              "      <th>3339</th>\n",
              "      <td>London</td>\n",
              "    </tr>\n",
              "    <tr>\n",
              "      <th>3340</th>\n",
              "      <td>Lincoln</td>\n",
              "    </tr>\n",
              "  </tbody>\n",
              "</table>\n",
              "<p>3341 rows × 1 columns</p>\n",
              "</div>"
            ],
            "text/plain": [
              "                      Unique Values\n",
              "0                        Birmingham\n",
              "1     Est. September 2012 - Bristol\n",
              "2                            AFRICA\n",
              "3                  Philadelphia, PA\n",
              "4                        London, UK\n",
              "...                             ...\n",
              "3336                             TN\n",
              "3337         #NewcastleuponTyne #UK\n",
              "3338              Vancouver, Canada\n",
              "3339                        London \n",
              "3340                        Lincoln\n",
              "\n",
              "[3341 rows x 1 columns]"
            ]
          },
          "metadata": {}
        }
      ]
    },
    {
      "cell_type": "code",
      "metadata": {
        "colab": {
          "base_uri": "https://localhost:8080/"
        },
        "id": "D7ZnZ6pWM0iu",
        "outputId": "210aaf13-13a4-4aac-852d-01bfa6903468"
      },
      "source": [
        "import re #regex\n",
        "top_loc = no_null_loc.location.describe().top\n",
        "top_loc_freq = no_null_loc.location.describe().freq\n",
        "print(f'top location: {top_loc}')\n",
        "print(f'naively, {top_loc} has {top_loc_freq} occurences')\n",
        "# re.findall(top_loc,no_null_loc[''])\n",
        "better_top_loc_freq = len(no_null_loc[no_null_loc['location'].str.count(rf'{top_loc}')==1])\n",
        "print(f'less naively (searching for USA substring), {top_loc} has {better_top_loc_freq} occurences')\n",
        "print(f'diff of {better_top_loc_freq-top_loc_freq}. wow')\n",
        "\n",
        "# no_null_loc['location']"
      ],
      "execution_count": null,
      "outputs": [
        {
          "output_type": "stream",
          "name": "stdout",
          "text": [
            "top location: USA\n",
            "naively, USA has 104 occurences\n",
            "less naively (searching for USA substring), USA has 260 occurences\n",
            "diff of 156. wow\n"
          ]
        }
      ]
    },
    {
      "cell_type": "code",
      "metadata": {
        "colab": {
          "base_uri": "https://localhost:8080/"
        },
        "id": "MT9_P5N49YzU",
        "outputId": "de82a1ff-0eac-4c42-8862-f2a434880fd9"
      },
      "source": [
        "num_rows = len(train_df)\n",
        "num_rows_locations = len(no_null_loc)\n",
        "locations_null = train_df[train_df[\"location\"].isna()]\n",
        "num_rows_null_locations = len(locations_null)\n",
        "\n",
        "num_disaster = len(train_df[train_df['target']==1])\n",
        "num_no_disaster = num_rows - num_disaster\n",
        "\n",
        "location_dis = len(no_null_loc[no_null_loc['target'] == 1])\n",
        "location_no_dis = len(no_null_loc[no_null_loc['target'] != 1])\n",
        "if location_dis + location_no_dis != num_rows_locations: print(\"evil is afoot\")\n",
        "null_location_dis = len(locations_null[locations_null['target'] == 1])\n",
        "null_location_no_dis = len(locations_null[locations_null['target'] != 1])\n",
        "if null_location_dis + null_location_no_dis != num_rows_null_locations: print(\"bad stuff happening\")\n",
        "\n",
        "loc_counts = [num_disaster, num_no_disaster, num_rows_locations, num_rows_null_locations, np.NaN, location_dis,location_no_dis,null_location_dis,null_location_no_dis]\n",
        "loc_percentages = [i/num_rows for i in loc_counts]\n",
        "loc_disaster_temp = [num_disaster, np.NaN, np.NaN, np.NaN, np.NaN, location_dis, np.NaN, null_location_dis, np.NaN]\n",
        "loc_disaster_percentages = [i/num_disaster if not None else np.NaN for i in loc_disaster_temp]\n",
        "loc_no_disaster_temp = [np.NaN, num_no_disaster, np.NaN, np.NaN, np.NaN, np.NaN,location_no_dis,np.NaN,null_location_no_dis]\n",
        "loc_no_disaster_percentages = [i/num_no_disaster if not None else np.NaN for i in loc_no_disaster_temp]\n",
        "\n",
        "loc_analyze_df = pd.DataFrame(\n",
        "    np.array([loc_counts, loc_percentages, loc_disaster_percentages, loc_no_disaster_percentages]).T\n",
        "    , columns=['count','% of all tweets', '% of disasters', '% no disaster'], index=['Disaster','No Disaster','Location', 'No Location','Spacer','Location and Disaster','Location no Disaster', 'No Location and Disaster', 'No Location no Disaster']\n",
        "    )\n",
        "\n",
        "\n",
        "loc_analyze_df"
      ],
      "execution_count": null,
      "outputs": [
        {
          "output_type": "execute_result",
          "data": {
            "text/html": [
              "<div>\n",
              "<style scoped>\n",
              "    .dataframe tbody tr th:only-of-type {\n",
              "        vertical-align: middle;\n",
              "    }\n",
              "\n",
              "    .dataframe tbody tr th {\n",
              "        vertical-align: top;\n",
              "    }\n",
              "\n",
              "    .dataframe thead th {\n",
              "        text-align: right;\n",
              "    }\n",
              "</style>\n",
              "<table border=\"1\" class=\"dataframe\">\n",
              "  <thead>\n",
              "    <tr style=\"text-align: right;\">\n",
              "      <th></th>\n",
              "      <th>count</th>\n",
              "      <th>% of all tweets</th>\n",
              "      <th>% of disasters</th>\n",
              "      <th>% no disaster</th>\n",
              "    </tr>\n",
              "  </thead>\n",
              "  <tbody>\n",
              "    <tr>\n",
              "      <th>Disaster</th>\n",
              "      <td>3271.0</td>\n",
              "      <td>0.429660</td>\n",
              "      <td>1.000000</td>\n",
              "      <td>NaN</td>\n",
              "    </tr>\n",
              "    <tr>\n",
              "      <th>No Disaster</th>\n",
              "      <td>4342.0</td>\n",
              "      <td>0.570340</td>\n",
              "      <td>NaN</td>\n",
              "      <td>1.00000</td>\n",
              "    </tr>\n",
              "    <tr>\n",
              "      <th>Location</th>\n",
              "      <td>5080.0</td>\n",
              "      <td>0.667280</td>\n",
              "      <td>NaN</td>\n",
              "      <td>NaN</td>\n",
              "    </tr>\n",
              "    <tr>\n",
              "      <th>No Location</th>\n",
              "      <td>2533.0</td>\n",
              "      <td>0.332720</td>\n",
              "      <td>NaN</td>\n",
              "      <td>NaN</td>\n",
              "    </tr>\n",
              "    <tr>\n",
              "      <th>Spacer</th>\n",
              "      <td>NaN</td>\n",
              "      <td>NaN</td>\n",
              "      <td>NaN</td>\n",
              "      <td>NaN</td>\n",
              "    </tr>\n",
              "    <tr>\n",
              "      <th>Location and Disaster</th>\n",
              "      <td>2196.0</td>\n",
              "      <td>0.288454</td>\n",
              "      <td>0.671354</td>\n",
              "      <td>NaN</td>\n",
              "    </tr>\n",
              "    <tr>\n",
              "      <th>Location no Disaster</th>\n",
              "      <td>2884.0</td>\n",
              "      <td>0.378826</td>\n",
              "      <td>NaN</td>\n",
              "      <td>0.66421</td>\n",
              "    </tr>\n",
              "    <tr>\n",
              "      <th>No Location and Disaster</th>\n",
              "      <td>1075.0</td>\n",
              "      <td>0.141206</td>\n",
              "      <td>0.328646</td>\n",
              "      <td>NaN</td>\n",
              "    </tr>\n",
              "    <tr>\n",
              "      <th>No Location no Disaster</th>\n",
              "      <td>1458.0</td>\n",
              "      <td>0.191515</td>\n",
              "      <td>NaN</td>\n",
              "      <td>0.33579</td>\n",
              "    </tr>\n",
              "  </tbody>\n",
              "</table>\n",
              "</div>"
            ],
            "text/plain": [
              "                           count  ...  % no disaster\n",
              "Disaster                  3271.0  ...            NaN\n",
              "No Disaster               4342.0  ...        1.00000\n",
              "Location                  5080.0  ...            NaN\n",
              "No Location               2533.0  ...            NaN\n",
              "Spacer                       NaN  ...            NaN\n",
              "Location and Disaster     2196.0  ...            NaN\n",
              "Location no Disaster      2884.0  ...        0.66421\n",
              "No Location and Disaster  1075.0  ...            NaN\n",
              "No Location no Disaster   1458.0  ...        0.33579\n",
              "\n",
              "[9 rows x 4 columns]"
            ]
          },
          "metadata": {},
          "execution_count": 13
        }
      ]
    },
    {
      "cell_type": "code",
      "metadata": {
        "colab": {
          "base_uri": "https://localhost:8080/"
        },
        "id": "p04yOtBHFhMk",
        "outputId": "117d79e4-6e5e-4ed9-eca3-a0538c4ec956"
      },
      "source": [
        "loc_dis_df = loc_analyze_df.loc[['Location and Disaster','Location no Disaster', 'No Location and Disaster', 'No Location no Disaster']]\n",
        "fig, ax = plt.subplots()\n",
        "ax.bar(x=['Location','No Location'],height=loc_dis_df['count'].values[1::2],label='No Disaster',bottom=loc_dis_df['count'].values[0::2])\n",
        "ax.bar(x=['Location','No Location'],height=loc_dis_df['count'].values[0::2],label='Disaster')\n",
        "ax.bar(x=['Disaster','No Disaster'],height=loc_dis_df['count'].values[0:2],label='Location',bottom=loc_dis_df['count'].values[2:])\n",
        "ax.bar(x=['Disaster','No Disaster'],height=loc_dis_df['count'].values[2:],label='No Location')\n",
        "ax.set_ylabel('Count')\n",
        "ax.set_title('Count of Disaster vs No Disaster by has Location info')\n",
        "ax.legend()\n",
        "plt.show()"
      ],
      "execution_count": null,
      "outputs": [
        {
          "output_type": "display_data",
          "data": {
            "image/png": "[encoded data removed]",
            "text/plain": [
              "<Figure size 432x288 with 1 Axes>"
            ]
          },
          "metadata": {
            "needs_background": "light"
          }
        }
      ]
    },
    {
      "cell_type": "code",
      "metadata": {
        "colab": {
          "base_uri": "https://localhost:8080/"
        },
        "id": "PSE6MQx-KMVr",
        "outputId": "c0eef61b-97a8-43fc-9ce8-dec396e087a5"
      },
      "source": [
        "loc_dis_df = loc_analyze_df.loc[['Location and Disaster','Location no Disaster', 'No Location and Disaster', 'No Location no Disaster']]\n",
        "fig, ax = plt.subplots()\n",
        "ax.bar(x=['Location & Disaster'],height=loc_dis_df['% of disasters'].values[0])\n",
        "ax.bar(x=['No Location & Disaster'],height=loc_dis_df['% of disasters'].values[2])\n",
        "ax.bar(x=['All Disaster'],height=loc_dis_df['% of disasters'].values[0],label='Location')\n",
        "ax.bar(x=['All Disaster'],height=loc_dis_df['% of disasters'].values[2],bottom=loc_dis_df['% of disasters'].values[0],label='No Location')\n",
        "# ax.bar(x=['Location','No Location'],height=loc_dis_df['count'].values[0::2],label='Disaster')\n",
        "# ax.bar(x=['Disaster','No Disaster'],height=loc_dis_df['count'].values[0:2],label='Location',bottom=loc_dis_df['count'].values[2:])\n",
        "# ax.bar(x=['Disaster','No Disaster'],height=loc_dis_df['count'].values[2:],label='No Location')\n",
        "ax.set_ylabel('% of all Disasters')\n",
        "ax.set_title('Percentages Disaster by has Location info')\n",
        "ax.legend()\n",
        "plt.show()"
      ],
      "execution_count": null,
      "outputs": [
        {
          "output_type": "display_data",
          "data": {
            "image/png": "[encoded data removed]",
            "text/plain": [
              "<Figure size 432x288 with 1 Axes>"
            ]
          },
          "metadata": {
            "needs_background": "light"
          }
        }
      ]
    },
    {
      "cell_type": "code",
      "metadata": {
        "colab": {
          "base_uri": "https://localhost:8080/"
        },
        "id": "Na6IJyo36tni",
        "outputId": "9a0e94b3-9f3f-4445-eac7-e20440ca81e0"
      },
      "source": [
        "no_null_loc"
      ],
      "execution_count": null,
      "outputs": [
        {
          "output_type": "execute_result",
          "data": {
            "text/html": [
              "<div>\n",
              "<style scoped>\n",
              "    .dataframe tbody tr th:only-of-type {\n",
              "        vertical-align: middle;\n",
              "    }\n",
              "\n",
              "    .dataframe tbody tr th {\n",
              "        vertical-align: top;\n",
              "    }\n",
              "\n",
              "    .dataframe thead th {\n",
              "        text-align: right;\n",
              "    }\n",
              "</style>\n",
              "<table border=\"1\" class=\"dataframe\">\n",
              "  <thead>\n",
              "    <tr style=\"text-align: right;\">\n",
              "      <th></th>\n",
              "      <th>id</th>\n",
              "      <th>keyword</th>\n",
              "      <th>location</th>\n",
              "      <th>text</th>\n",
              "      <th>target</th>\n",
              "    </tr>\n",
              "  </thead>\n",
              "  <tbody>\n",
              "    <tr>\n",
              "      <th>31</th>\n",
              "      <td>48</td>\n",
              "      <td>ablaze</td>\n",
              "      <td>Birmingham</td>\n",
              "      <td>@bbcmtd Wholesale Markets ablaze http://t.co/l...</td>\n",
              "      <td>1</td>\n",
              "    </tr>\n",
              "    <tr>\n",
              "      <th>32</th>\n",
              "      <td>49</td>\n",
              "      <td>ablaze</td>\n",
              "      <td>Est. September 2012 - Bristol</td>\n",
              "      <td>We always try to bring the heavy. #metal #RT h...</td>\n",
              "      <td>0</td>\n",
              "    </tr>\n",
              "    <tr>\n",
              "      <th>33</th>\n",
              "      <td>50</td>\n",
              "      <td>ablaze</td>\n",
              "      <td>AFRICA</td>\n",
              "      <td>#AFRICANBAZE: Breaking news:Nigeria flag set a...</td>\n",
              "      <td>1</td>\n",
              "    </tr>\n",
              "    <tr>\n",
              "      <th>34</th>\n",
              "      <td>52</td>\n",
              "      <td>ablaze</td>\n",
              "      <td>Philadelphia, PA</td>\n",
              "      <td>Crying out for more! Set me ablaze</td>\n",
              "      <td>0</td>\n",
              "    </tr>\n",
              "    <tr>\n",
              "      <th>35</th>\n",
              "      <td>53</td>\n",
              "      <td>ablaze</td>\n",
              "      <td>London, UK</td>\n",
              "      <td>On plus side LOOK AT THE SKY LAST NIGHT IT WAS...</td>\n",
              "      <td>0</td>\n",
              "    </tr>\n",
              "    <tr>\n",
              "      <th>...</th>\n",
              "      <td>...</td>\n",
              "      <td>...</td>\n",
              "      <td>...</td>\n",
              "      <td>...</td>\n",
              "      <td>...</td>\n",
              "    </tr>\n",
              "    <tr>\n",
              "      <th>7575</th>\n",
              "      <td>10826</td>\n",
              "      <td>wrecked</td>\n",
              "      <td>TN</td>\n",
              "      <td>On the bright side I wrecked http://t.co/uEa0t...</td>\n",
              "      <td>0</td>\n",
              "    </tr>\n",
              "    <tr>\n",
              "      <th>7577</th>\n",
              "      <td>10829</td>\n",
              "      <td>wrecked</td>\n",
              "      <td>#NewcastleuponTyne #UK</td>\n",
              "      <td>@widda16 ... He's gone. You can relax. I thoug...</td>\n",
              "      <td>0</td>\n",
              "    </tr>\n",
              "    <tr>\n",
              "      <th>7579</th>\n",
              "      <td>10831</td>\n",
              "      <td>wrecked</td>\n",
              "      <td>Vancouver, Canada</td>\n",
              "      <td>Three days off from work and they've pretty mu...</td>\n",
              "      <td>0</td>\n",
              "    </tr>\n",
              "    <tr>\n",
              "      <th>7580</th>\n",
              "      <td>10832</td>\n",
              "      <td>wrecked</td>\n",
              "      <td>London</td>\n",
              "      <td>#FX #forex #trading Cramer: Iger's 3 words tha...</td>\n",
              "      <td>0</td>\n",
              "    </tr>\n",
              "    <tr>\n",
              "      <th>7581</th>\n",
              "      <td>10833</td>\n",
              "      <td>wrecked</td>\n",
              "      <td>Lincoln</td>\n",
              "      <td>@engineshed Great atmosphere at the British Li...</td>\n",
              "      <td>0</td>\n",
              "    </tr>\n",
              "  </tbody>\n",
              "</table>\n",
              "<p>5080 rows × 5 columns</p>\n",
              "</div>"
            ],
            "text/plain": [
              "         id  keyword  ...                                               text target\n",
              "31       48   ablaze  ...  @bbcmtd Wholesale Markets ablaze http://t.co/l...      1\n",
              "32       49   ablaze  ...  We always try to bring the heavy. #metal #RT h...      0\n",
              "33       50   ablaze  ...  #AFRICANBAZE: Breaking news:Nigeria flag set a...      1\n",
              "34       52   ablaze  ...                 Crying out for more! Set me ablaze      0\n",
              "35       53   ablaze  ...  On plus side LOOK AT THE SKY LAST NIGHT IT WAS...      0\n",
              "...     ...      ...  ...                                                ...    ...\n",
              "7575  10826  wrecked  ...  On the bright side I wrecked http://t.co/uEa0t...      0\n",
              "7577  10829  wrecked  ...  @widda16 ... He's gone. You can relax. I thoug...      0\n",
              "7579  10831  wrecked  ...  Three days off from work and they've pretty mu...      0\n",
              "7580  10832  wrecked  ...  #FX #forex #trading Cramer: Iger's 3 words tha...      0\n",
              "7581  10833  wrecked  ...  @engineshed Great atmosphere at the British Li...      0\n",
              "\n",
              "[5080 rows x 5 columns]"
            ]
          },
          "metadata": {},
          "execution_count": 16
        }
      ]
    },
    {
      "cell_type": "code",
      "metadata": {
        "colab": {
          "base_uri": "https://localhost:8080/"
        },
        "id": "HC6pnULPPKQY",
        "outputId": "7c82046b-bf25-465a-f088-e001bd9b04a3"
      },
      "source": [
        "null_key_count = train_df['keyword'].isna().sum()\n",
        "print(f'{null_key_count} null keywords\\n')\n",
        "no_null_key = train_df.dropna(subset=['keyword'])\n",
        "display(no_null_key)\n",
        "null_key_count = no_null_key['keyword'].isna().sum()\n",
        "print(f'{null_key_count} null keys\\n')"
      ],
      "execution_count": null,
      "outputs": [
        {
          "output_type": "stream",
          "name": "stdout",
          "text": [
            "61 null keywords\n",
            "\n"
          ]
        },
        {
          "output_type": "display_data",
          "data": {
            "text/html": [
              "<div>\n",
              "<style scoped>\n",
              "    .dataframe tbody tr th:only-of-type {\n",
              "        vertical-align: middle;\n",
              "    }\n",
              "\n",
              "    .dataframe tbody tr th {\n",
              "        vertical-align: top;\n",
              "    }\n",
              "\n",
              "    .dataframe thead th {\n",
              "        text-align: right;\n",
              "    }\n",
              "</style>\n",
              "<table border=\"1\" class=\"dataframe\">\n",
              "  <thead>\n",
              "    <tr style=\"text-align: right;\">\n",
              "      <th></th>\n",
              "      <th>id</th>\n",
              "      <th>keyword</th>\n",
              "      <th>location</th>\n",
              "      <th>text</th>\n",
              "      <th>target</th>\n",
              "    </tr>\n",
              "  </thead>\n",
              "  <tbody>\n",
              "    <tr>\n",
              "      <th>31</th>\n",
              "      <td>48</td>\n",
              "      <td>ablaze</td>\n",
              "      <td>Birmingham</td>\n",
              "      <td>@bbcmtd Wholesale Markets ablaze http://t.co/l...</td>\n",
              "      <td>1</td>\n",
              "    </tr>\n",
              "    <tr>\n",
              "      <th>32</th>\n",
              "      <td>49</td>\n",
              "      <td>ablaze</td>\n",
              "      <td>Est. September 2012 - Bristol</td>\n",
              "      <td>We always try to bring the heavy. #metal #RT h...</td>\n",
              "      <td>0</td>\n",
              "    </tr>\n",
              "    <tr>\n",
              "      <th>33</th>\n",
              "      <td>50</td>\n",
              "      <td>ablaze</td>\n",
              "      <td>AFRICA</td>\n",
              "      <td>#AFRICANBAZE: Breaking news:Nigeria flag set a...</td>\n",
              "      <td>1</td>\n",
              "    </tr>\n",
              "    <tr>\n",
              "      <th>34</th>\n",
              "      <td>52</td>\n",
              "      <td>ablaze</td>\n",
              "      <td>Philadelphia, PA</td>\n",
              "      <td>Crying out for more! Set me ablaze</td>\n",
              "      <td>0</td>\n",
              "    </tr>\n",
              "    <tr>\n",
              "      <th>35</th>\n",
              "      <td>53</td>\n",
              "      <td>ablaze</td>\n",
              "      <td>London, UK</td>\n",
              "      <td>On plus side LOOK AT THE SKY LAST NIGHT IT WAS...</td>\n",
              "      <td>0</td>\n",
              "    </tr>\n",
              "    <tr>\n",
              "      <th>...</th>\n",
              "      <td>...</td>\n",
              "      <td>...</td>\n",
              "      <td>...</td>\n",
              "      <td>...</td>\n",
              "      <td>...</td>\n",
              "    </tr>\n",
              "    <tr>\n",
              "      <th>7578</th>\n",
              "      <td>10830</td>\n",
              "      <td>wrecked</td>\n",
              "      <td>NaN</td>\n",
              "      <td>@jt_ruff23 @cameronhacker and I wrecked you both</td>\n",
              "      <td>0</td>\n",
              "    </tr>\n",
              "    <tr>\n",
              "      <th>7579</th>\n",
              "      <td>10831</td>\n",
              "      <td>wrecked</td>\n",
              "      <td>Vancouver, Canada</td>\n",
              "      <td>Three days off from work and they've pretty mu...</td>\n",
              "      <td>0</td>\n",
              "    </tr>\n",
              "    <tr>\n",
              "      <th>7580</th>\n",
              "      <td>10832</td>\n",
              "      <td>wrecked</td>\n",
              "      <td>London</td>\n",
              "      <td>#FX #forex #trading Cramer: Iger's 3 words tha...</td>\n",
              "      <td>0</td>\n",
              "    </tr>\n",
              "    <tr>\n",
              "      <th>7581</th>\n",
              "      <td>10833</td>\n",
              "      <td>wrecked</td>\n",
              "      <td>Lincoln</td>\n",
              "      <td>@engineshed Great atmosphere at the British Li...</td>\n",
              "      <td>0</td>\n",
              "    </tr>\n",
              "    <tr>\n",
              "      <th>7582</th>\n",
              "      <td>10834</td>\n",
              "      <td>wrecked</td>\n",
              "      <td>NaN</td>\n",
              "      <td>Cramer: Iger's 3 words that wrecked Disney's s...</td>\n",
              "      <td>0</td>\n",
              "    </tr>\n",
              "  </tbody>\n",
              "</table>\n",
              "<p>7552 rows × 5 columns</p>\n",
              "</div>"
            ],
            "text/plain": [
              "         id  keyword  ...                                               text target\n",
              "31       48   ablaze  ...  @bbcmtd Wholesale Markets ablaze http://t.co/l...      1\n",
              "32       49   ablaze  ...  We always try to bring the heavy. #metal #RT h...      0\n",
              "33       50   ablaze  ...  #AFRICANBAZE: Breaking news:Nigeria flag set a...      1\n",
              "34       52   ablaze  ...                 Crying out for more! Set me ablaze      0\n",
              "35       53   ablaze  ...  On plus side LOOK AT THE SKY LAST NIGHT IT WAS...      0\n",
              "...     ...      ...  ...                                                ...    ...\n",
              "7578  10830  wrecked  ...   @jt_ruff23 @cameronhacker and I wrecked you both      0\n",
              "7579  10831  wrecked  ...  Three days off from work and they've pretty mu...      0\n",
              "7580  10832  wrecked  ...  #FX #forex #trading Cramer: Iger's 3 words tha...      0\n",
              "7581  10833  wrecked  ...  @engineshed Great atmosphere at the British Li...      0\n",
              "7582  10834  wrecked  ...  Cramer: Iger's 3 words that wrecked Disney's s...      0\n",
              "\n",
              "[7552 rows x 5 columns]"
            ]
          },
          "metadata": {}
        },
        {
          "output_type": "stream",
          "name": "stdout",
          "text": [
            "0 null keys\n",
            "\n"
          ]
        }
      ]
    },
    {
      "cell_type": "code",
      "metadata": {
        "colab": {
          "base_uri": "https://localhost:8080/"
        },
        "id": "rJJe29vUJaN8",
        "outputId": "209f65cd-5501-4132-9c91-4cc7cafb0e73"
      },
      "source": [
        "def unique_values_in_column(data,feature):\n",
        "    unique_val=pd.Series(data.loc[:,feature].unique())\n",
        "    return pd.concat([unique_val],axis=1,keys=['Unique Values'])\n",
        "\n",
        "display(no_null_key.keyword.describe())\n",
        "display(unique_values_in_column(no_null_key, \"keyword\"))"
      ],
      "execution_count": null,
      "outputs": [
        {
          "output_type": "display_data",
          "data": {
            "text/plain": [
              "count           7552\n",
              "unique           221\n",
              "top       fatalities\n",
              "freq              45\n",
              "Name: keyword, dtype: object"
            ]
          },
          "metadata": {}
        },
        {
          "output_type": "display_data",
          "data": {
            "text/html": [
              "<div>\n",
              "<style scoped>\n",
              "    .dataframe tbody tr th:only-of-type {\n",
              "        vertical-align: middle;\n",
              "    }\n",
              "\n",
              "    .dataframe tbody tr th {\n",
              "        vertical-align: top;\n",
              "    }\n",
              "\n",
              "    .dataframe thead th {\n",
              "        text-align: right;\n",
              "    }\n",
              "</style>\n",
              "<table border=\"1\" class=\"dataframe\">\n",
              "  <thead>\n",
              "    <tr style=\"text-align: right;\">\n",
              "      <th></th>\n",
              "      <th>Unique Values</th>\n",
              "    </tr>\n",
              "  </thead>\n",
              "  <tbody>\n",
              "    <tr>\n",
              "      <th>0</th>\n",
              "      <td>ablaze</td>\n",
              "    </tr>\n",
              "    <tr>\n",
              "      <th>1</th>\n",
              "      <td>accident</td>\n",
              "    </tr>\n",
              "    <tr>\n",
              "      <th>2</th>\n",
              "      <td>aftershock</td>\n",
              "    </tr>\n",
              "    <tr>\n",
              "      <th>3</th>\n",
              "      <td>airplane%20accident</td>\n",
              "    </tr>\n",
              "    <tr>\n",
              "      <th>4</th>\n",
              "      <td>ambulance</td>\n",
              "    </tr>\n",
              "    <tr>\n",
              "      <th>...</th>\n",
              "      <td>...</td>\n",
              "    </tr>\n",
              "    <tr>\n",
              "      <th>216</th>\n",
              "      <td>wounded</td>\n",
              "    </tr>\n",
              "    <tr>\n",
              "      <th>217</th>\n",
              "      <td>wounds</td>\n",
              "    </tr>\n",
              "    <tr>\n",
              "      <th>218</th>\n",
              "      <td>wreck</td>\n",
              "    </tr>\n",
              "    <tr>\n",
              "      <th>219</th>\n",
              "      <td>wreckage</td>\n",
              "    </tr>\n",
              "    <tr>\n",
              "      <th>220</th>\n",
              "      <td>wrecked</td>\n",
              "    </tr>\n",
              "  </tbody>\n",
              "</table>\n",
              "<p>221 rows × 1 columns</p>\n",
              "</div>"
            ],
            "text/plain": [
              "           Unique Values\n",
              "0                 ablaze\n",
              "1               accident\n",
              "2             aftershock\n",
              "3    airplane%20accident\n",
              "4              ambulance\n",
              "..                   ...\n",
              "216              wounded\n",
              "217               wounds\n",
              "218                wreck\n",
              "219             wreckage\n",
              "220              wrecked\n",
              "\n",
              "[221 rows x 1 columns]"
            ]
          },
          "metadata": {}
        }
      ]
    },
    {
      "cell_type": "code",
      "metadata": {
        "colab": {
          "base_uri": "https://localhost:8080/"
        },
        "id": "goJ_nH5pQFnm",
        "outputId": "a75398f6-fde0-44df-e4df-b8b8c89c30fd"
      },
      "source": [
        "no_null_key[no_null_key['keyword'].str.count('%')==1]"
      ],
      "execution_count": null,
      "outputs": [
        {
          "output_type": "execute_result",
          "data": {
            "text/html": [
              "<div>\n",
              "<style scoped>\n",
              "    .dataframe tbody tr th:only-of-type {\n",
              "        vertical-align: middle;\n",
              "    }\n",
              "\n",
              "    .dataframe tbody tr th {\n",
              "        vertical-align: top;\n",
              "    }\n",
              "\n",
              "    .dataframe thead th {\n",
              "        text-align: right;\n",
              "    }\n",
              "</style>\n",
              "<table border=\"1\" class=\"dataframe\">\n",
              "  <thead>\n",
              "    <tr style=\"text-align: right;\">\n",
              "      <th></th>\n",
              "      <th>id</th>\n",
              "      <th>keyword</th>\n",
              "      <th>location</th>\n",
              "      <th>text</th>\n",
              "      <th>target</th>\n",
              "    </tr>\n",
              "  </thead>\n",
              "  <tbody>\n",
              "    <tr>\n",
              "      <th>136</th>\n",
              "      <td>196</td>\n",
              "      <td>airplane%20accident</td>\n",
              "      <td>19.600858, -99.047821</td>\n",
              "      <td>Experts in France begin examining airplane deb...</td>\n",
              "      <td>1</td>\n",
              "    </tr>\n",
              "    <tr>\n",
              "      <th>137</th>\n",
              "      <td>197</td>\n",
              "      <td>airplane%20accident</td>\n",
              "      <td>Pennsylvania</td>\n",
              "      <td>Strict liability in the context of an airplane...</td>\n",
              "      <td>1</td>\n",
              "    </tr>\n",
              "    <tr>\n",
              "      <th>138</th>\n",
              "      <td>198</td>\n",
              "      <td>airplane%20accident</td>\n",
              "      <td>Salt Lake City, Utah</td>\n",
              "      <td>@crobscarla your lifetime odds of dying from a...</td>\n",
              "      <td>0</td>\n",
              "    </tr>\n",
              "    <tr>\n",
              "      <th>139</th>\n",
              "      <td>199</td>\n",
              "      <td>airplane%20accident</td>\n",
              "      <td>Palo Alto, CA</td>\n",
              "      <td>Experts in France begin examining airplane deb...</td>\n",
              "      <td>1</td>\n",
              "    </tr>\n",
              "    <tr>\n",
              "      <th>140</th>\n",
              "      <td>201</td>\n",
              "      <td>airplane%20accident</td>\n",
              "      <td>NaN</td>\n",
              "      <td>@AlexAllTimeLow awwww they're on an airplane a...</td>\n",
              "      <td>1</td>\n",
              "    </tr>\n",
              "    <tr>\n",
              "      <th>...</th>\n",
              "      <td>...</td>\n",
              "      <td>...</td>\n",
              "      <td>...</td>\n",
              "      <td>...</td>\n",
              "      <td>...</td>\n",
              "    </tr>\n",
              "    <tr>\n",
              "      <th>7320</th>\n",
              "      <td>10479</td>\n",
              "      <td>wild%20fires</td>\n",
              "      <td>NaN</td>\n",
              "      <td>@EnzasBargains A5 Donated some fruit snacks &amp;a...</td>\n",
              "      <td>1</td>\n",
              "    </tr>\n",
              "    <tr>\n",
              "      <th>7321</th>\n",
              "      <td>10481</td>\n",
              "      <td>wild%20fires</td>\n",
              "      <td>NaN</td>\n",
              "      <td>Wild land fires.. Here I come. ??????</td>\n",
              "      <td>1</td>\n",
              "    </tr>\n",
              "    <tr>\n",
              "      <th>7322</th>\n",
              "      <td>10482</td>\n",
              "      <td>wild%20fires</td>\n",
              "      <td>Canada</td>\n",
              "      <td>@WBCShirl2 Yes God doessnt change  he says not...</td>\n",
              "      <td>0</td>\n",
              "    </tr>\n",
              "    <tr>\n",
              "      <th>7323</th>\n",
              "      <td>10483</td>\n",
              "      <td>wild%20fires</td>\n",
              "      <td>NaN</td>\n",
              "      <td>My heart goes out to all those effected by the...</td>\n",
              "      <td>1</td>\n",
              "    </tr>\n",
              "    <tr>\n",
              "      <th>7324</th>\n",
              "      <td>10484</td>\n",
              "      <td>wild%20fires</td>\n",
              "      <td>United States of America</td>\n",
              "      <td>Wild fires in California... Must be Global War...</td>\n",
              "      <td>1</td>\n",
              "    </tr>\n",
              "  </tbody>\n",
              "</table>\n",
              "<p>1132 rows × 5 columns</p>\n",
              "</div>"
            ],
            "text/plain": [
              "         id  ... target\n",
              "136     196  ...      1\n",
              "137     197  ...      1\n",
              "138     198  ...      0\n",
              "139     199  ...      1\n",
              "140     201  ...      1\n",
              "...     ...  ...    ...\n",
              "7320  10479  ...      1\n",
              "7321  10481  ...      1\n",
              "7322  10482  ...      0\n",
              "7323  10483  ...      1\n",
              "7324  10484  ...      1\n",
              "\n",
              "[1132 rows x 5 columns]"
            ]
          },
          "metadata": {},
          "execution_count": 19
        }
      ]
    },
    {
      "cell_type": "code",
      "metadata": {
        "colab": {
          "base_uri": "https://localhost:8080/"
        },
        "id": "CYhjkCRXPB3X",
        "outputId": "c3076a7e-ad1e-40c7-f162-b169f9bbf2eb"
      },
      "source": [
        "import urllib.parse\n",
        "\n",
        "num_perc_in_keyword = len(no_null_key[no_null_key['keyword'].str.count('%')==1])\n",
        "print(f'{num_perc_in_keyword} occurences of % in keyword column\\n\\n')\n",
        "no_null_key['decKey'] = [urllib.parse.unquote(i) for i in no_null_key['keyword']]\n",
        "\n",
        "display(no_null_key)\n",
        "print(\"\\n\")\n",
        "num_perc_in_deckey = len(no_null_key[no_null_key['decKey'].str.count('%')==1])\n",
        "print(f'{num_perc_in_deckey} occurences of % in decKey column')"
      ],
      "execution_count": null,
      "outputs": [
        {
          "output_type": "stream",
          "name": "stdout",
          "text": [
            "1132 occurences of % in keyword column\n",
            "\n",
            "\n"
          ]
        },
        {
          "output_type": "stream",
          "name": "stderr",
          "text": [
            "/usr/local/lib/python3.7/dist-packages/ipykernel_launcher.py:5: SettingWithCopyWarning: \n",
            "A value is trying to be set on a copy of a slice from a DataFrame.\n",
            "Try using .loc[row_indexer,col_indexer] = value instead\n",
            "\n",
            "See the caveats in the documentation: https://pandas.pydata.org/pandas-docs/stable/user_guide/indexing.html#returning-a-view-versus-a-copy\n",
            "  \"\"\"\n"
          ]
        },
        {
          "output_type": "display_data",
          "data": {
            "text/html": [
              "<div>\n",
              "<style scoped>\n",
              "    .dataframe tbody tr th:only-of-type {\n",
              "        vertical-align: middle;\n",
              "    }\n",
              "\n",
              "    .dataframe tbody tr th {\n",
              "        vertical-align: top;\n",
              "    }\n",
              "\n",
              "    .dataframe thead th {\n",
              "        text-align: right;\n",
              "    }\n",
              "</style>\n",
              "<table border=\"1\" class=\"dataframe\">\n",
              "  <thead>\n",
              "    <tr style=\"text-align: right;\">\n",
              "      <th></th>\n",
              "      <th>id</th>\n",
              "      <th>keyword</th>\n",
              "      <th>location</th>\n",
              "      <th>text</th>\n",
              "      <th>target</th>\n",
              "      <th>decKey</th>\n",
              "    </tr>\n",
              "  </thead>\n",
              "  <tbody>\n",
              "    <tr>\n",
              "      <th>31</th>\n",
              "      <td>48</td>\n",
              "      <td>ablaze</td>\n",
              "      <td>Birmingham</td>\n",
              "      <td>@bbcmtd Wholesale Markets ablaze http://t.co/l...</td>\n",
              "      <td>1</td>\n",
              "      <td>ablaze</td>\n",
              "    </tr>\n",
              "    <tr>\n",
              "      <th>32</th>\n",
              "      <td>49</td>\n",
              "      <td>ablaze</td>\n",
              "      <td>Est. September 2012 - Bristol</td>\n",
              "      <td>We always try to bring the heavy. #metal #RT h...</td>\n",
              "      <td>0</td>\n",
              "      <td>ablaze</td>\n",
              "    </tr>\n",
              "    <tr>\n",
              "      <th>33</th>\n",
              "      <td>50</td>\n",
              "      <td>ablaze</td>\n",
              "      <td>AFRICA</td>\n",
              "      <td>#AFRICANBAZE: Breaking news:Nigeria flag set a...</td>\n",
              "      <td>1</td>\n",
              "      <td>ablaze</td>\n",
              "    </tr>\n",
              "    <tr>\n",
              "      <th>34</th>\n",
              "      <td>52</td>\n",
              "      <td>ablaze</td>\n",
              "      <td>Philadelphia, PA</td>\n",
              "      <td>Crying out for more! Set me ablaze</td>\n",
              "      <td>0</td>\n",
              "      <td>ablaze</td>\n",
              "    </tr>\n",
              "    <tr>\n",
              "      <th>35</th>\n",
              "      <td>53</td>\n",
              "      <td>ablaze</td>\n",
              "      <td>London, UK</td>\n",
              "      <td>On plus side LOOK AT THE SKY LAST NIGHT IT WAS...</td>\n",
              "      <td>0</td>\n",
              "      <td>ablaze</td>\n",
              "    </tr>\n",
              "    <tr>\n",
              "      <th>...</th>\n",
              "      <td>...</td>\n",
              "      <td>...</td>\n",
              "      <td>...</td>\n",
              "      <td>...</td>\n",
              "      <td>...</td>\n",
              "      <td>...</td>\n",
              "    </tr>\n",
              "    <tr>\n",
              "      <th>7578</th>\n",
              "      <td>10830</td>\n",
              "      <td>wrecked</td>\n",
              "      <td>NaN</td>\n",
              "      <td>@jt_ruff23 @cameronhacker and I wrecked you both</td>\n",
              "      <td>0</td>\n",
              "      <td>wrecked</td>\n",
              "    </tr>\n",
              "    <tr>\n",
              "      <th>7579</th>\n",
              "      <td>10831</td>\n",
              "      <td>wrecked</td>\n",
              "      <td>Vancouver, Canada</td>\n",
              "      <td>Three days off from work and they've pretty mu...</td>\n",
              "      <td>0</td>\n",
              "      <td>wrecked</td>\n",
              "    </tr>\n",
              "    <tr>\n",
              "      <th>7580</th>\n",
              "      <td>10832</td>\n",
              "      <td>wrecked</td>\n",
              "      <td>London</td>\n",
              "      <td>#FX #forex #trading Cramer: Iger's 3 words tha...</td>\n",
              "      <td>0</td>\n",
              "      <td>wrecked</td>\n",
              "    </tr>\n",
              "    <tr>\n",
              "      <th>7581</th>\n",
              "      <td>10833</td>\n",
              "      <td>wrecked</td>\n",
              "      <td>Lincoln</td>\n",
              "      <td>@engineshed Great atmosphere at the British Li...</td>\n",
              "      <td>0</td>\n",
              "      <td>wrecked</td>\n",
              "    </tr>\n",
              "    <tr>\n",
              "      <th>7582</th>\n",
              "      <td>10834</td>\n",
              "      <td>wrecked</td>\n",
              "      <td>NaN</td>\n",
              "      <td>Cramer: Iger's 3 words that wrecked Disney's s...</td>\n",
              "      <td>0</td>\n",
              "      <td>wrecked</td>\n",
              "    </tr>\n",
              "  </tbody>\n",
              "</table>\n",
              "<p>7552 rows × 6 columns</p>\n",
              "</div>"
            ],
            "text/plain": [
              "         id  keyword  ... target   decKey\n",
              "31       48   ablaze  ...      1   ablaze\n",
              "32       49   ablaze  ...      0   ablaze\n",
              "33       50   ablaze  ...      1   ablaze\n",
              "34       52   ablaze  ...      0   ablaze\n",
              "35       53   ablaze  ...      0   ablaze\n",
              "...     ...      ...  ...    ...      ...\n",
              "7578  10830  wrecked  ...      0  wrecked\n",
              "7579  10831  wrecked  ...      0  wrecked\n",
              "7580  10832  wrecked  ...      0  wrecked\n",
              "7581  10833  wrecked  ...      0  wrecked\n",
              "7582  10834  wrecked  ...      0  wrecked\n",
              "\n",
              "[7552 rows x 6 columns]"
            ]
          },
          "metadata": {}
        },
        {
          "output_type": "stream",
          "name": "stdout",
          "text": [
            "\n",
            "\n",
            "0 occurences of % in decKey column\n"
          ]
        }
      ]
    },
    {
      "cell_type": "code",
      "metadata": {
        "id": "mZmtozoRfE9d",
        "colab": {
          "base_uri": "https://localhost:8080/"
        },
        "outputId": "223edf40-74d4-44af-8e5e-f46ed7904baa"
      },
      "source": [
        "key_dis = len(no_null_key[no_null_key['target']==1])\n",
        "key_no_dis = len(no_null_key) - len(no_null_key[no_null_key['target']==1])\n",
        "\n",
        "keys_null = train_df[train_df[\"keyword\"].isna()]\n",
        "num_keys_null = len(keys_null)\n",
        "\n",
        "no_key_dis = len(keys_null[keys_null['target']==1])\n",
        "no_key_no_dis = len(keys_null[keys_null['target']==0])\n",
        "\n",
        "keys_counts = [key_dis,key_no_dis,no_key_dis,no_key_no_dis]\n",
        "\n",
        "fig, ax = plt.subplots()\n",
        "ax.bar(x=['Key & Dis'],height=keys_counts[0])\n",
        "ax.bar(x=['Key & No Dis'],height=keys_counts[1])\n",
        "ax.bar(x=['No Key & Dis'],height=keys_counts[2])\n",
        "ax.bar(x=['No Key & No Dis'],height=keys_counts[3])\n",
        "# ax.bar(x=['All Disaster'],height=loc_dis_df['% of disasters'].values[0],label='Location')\n",
        "# ax.bar(x=['All Disaster'],height=loc_dis_df['% of disasters'].values[2],bottom=loc_dis_df['% of disasters'].values[0],label='No Location')\n",
        "# ax.bar(x=['Location','No Location'],height=loc_dis_df['count'].values[0::2],label='Disaster')\n",
        "# ax.bar(x=['Disaster','No Disaster'],height=loc_dis_df['count'].values[0:2],label='Location',bottom=loc_dis_df['count'].values[2:])\n",
        "# ax.bar(x=['Disaster','No Disaster'],height=loc_dis_df['count'].values[2:],label='No Location')\n",
        "ax.set_ylabel('Count')\n",
        "ax.set_title('Disaster by has keyword info')\n",
        "# ax.legend()\n",
        "plt.show()"
      ],
      "execution_count": null,
      "outputs": [
        {
          "output_type": "display_data",
          "data": {
            "image/png": "[encoded data removed]",
            "text/plain": [
              "<Figure size 432x288 with 1 Axes>"
            ]
          },
          "metadata": {
            "needs_background": "light"
          }
        }
      ]
    },
    {
      "cell_type": "code",
      "metadata": {
        "colab": {
          "base_uri": "https://localhost:8080/"
        },
        "id": "0qk4gjBgTQkH",
        "outputId": "95a4956f-2d8b-420d-d576-ddbd1060ba62"
      },
      "source": [
        "fig, ax = plt.subplots()\n",
        "ax.bar(x=['Key & Dis'],height=keys_counts[0]/num_disaster)\n",
        "ax.bar(x=['No Key & Dis'],height=keys_counts[2]/num_disaster)\n",
        "ax.bar(x=['All Disaster'],height=keys_counts[2]/num_disaster,bottom=keys_counts[0]/num_disaster,label='No Key & Dis')\n",
        "ax.bar(x=['All Disaster'],height=keys_counts[0]/num_disaster,label='Key & Dis')\n",
        "# ax.bar(x=['All Disaster'],height=loc_dis_df['% of disasters'].values[0],label='Location')\n",
        "# ax.bar(x=['All Disaster'],height=loc_dis_df['% of disasters'].values[2],bottom=loc_dis_df['% of disasters'].values[0],label='No Location')\n",
        "# ax.bar(x=['Location','No Location'],height=loc_dis_df['count'].values[0::2],label='Disaster')\n",
        "# ax.bar(x=['Disaster','No Disaster'],height=loc_dis_df['count'].values[0:2],label='Location',bottom=loc_dis_df['count'].values[2:])\n",
        "# ax.bar(x=['Disaster','No Disaster'],height=loc_dis_df['count'].values[2:],label='No Location')\n",
        "ax.set_ylabel('% of all Disaster')\n",
        "ax.set_title('% Disaster by has keyword info')\n",
        "ax.legend(loc=9)\n",
        "plt.show()"
      ],
      "execution_count": null,
      "outputs": [
        {
          "output_type": "display_data",
          "data": {
            "image/png": "[encoded data removed]",
            "text/plain": [
              "<Figure size 432x288 with 1 Axes>"
            ]
          },
          "metadata": {
            "needs_background": "light"
          }
        }
      ]
    },
    {
      "cell_type": "code",
      "metadata": {
        "colab": {
          "base_uri": "https://localhost:8080/"
        },
        "id": "c8ORPfRBRV6e",
        "outputId": "4a45689b-16c0-4cce-c21b-b706e878d2f0"
      },
      "source": [
        "no_null_key_grouped = no_null_key[['decKey','target','id']].groupby(by=['decKey','target'],sort=True,as_index=False).count()\n",
        "display(no_null_key_grouped)\n",
        "no_null_key_grouped['count'] = no_null_key_grouped['id']\n",
        "no_null_key_grouped = no_null_key_grouped.drop('id',axis=1)\n",
        "no_null_key_grouped.columns\n",
        "# no_null_key_grouped['keys'] = no_null_key_grouped['decKey']\n",
        "# no_null_key_grouped['dis'] = no_null_key_grouped['target']\n",
        "# no_null_key_grouped = no_null_key_grouped.sort_values(by='count',ascending=False)\n",
        "# display(no_null_key_grouped)"
      ],
      "execution_count": null,
      "outputs": [
        {
          "output_type": "display_data",
          "data": {
            "text/html": [
              "<div>\n",
              "<style scoped>\n",
              "    .dataframe tbody tr th:only-of-type {\n",
              "        vertical-align: middle;\n",
              "    }\n",
              "\n",
              "    .dataframe tbody tr th {\n",
              "        vertical-align: top;\n",
              "    }\n",
              "\n",
              "    .dataframe thead th {\n",
              "        text-align: right;\n",
              "    }\n",
              "</style>\n",
              "<table border=\"1\" class=\"dataframe\">\n",
              "  <thead>\n",
              "    <tr style=\"text-align: right;\">\n",
              "      <th></th>\n",
              "      <th>decKey</th>\n",
              "      <th>target</th>\n",
              "      <th>id</th>\n",
              "    </tr>\n",
              "  </thead>\n",
              "  <tbody>\n",
              "    <tr>\n",
              "      <th>0</th>\n",
              "      <td>ablaze</td>\n",
              "      <td>0</td>\n",
              "      <td>23</td>\n",
              "    </tr>\n",
              "    <tr>\n",
              "      <th>1</th>\n",
              "      <td>ablaze</td>\n",
              "      <td>1</td>\n",
              "      <td>13</td>\n",
              "    </tr>\n",
              "    <tr>\n",
              "      <th>2</th>\n",
              "      <td>accident</td>\n",
              "      <td>0</td>\n",
              "      <td>11</td>\n",
              "    </tr>\n",
              "    <tr>\n",
              "      <th>3</th>\n",
              "      <td>accident</td>\n",
              "      <td>1</td>\n",
              "      <td>24</td>\n",
              "    </tr>\n",
              "    <tr>\n",
              "      <th>4</th>\n",
              "      <td>aftershock</td>\n",
              "      <td>0</td>\n",
              "      <td>34</td>\n",
              "    </tr>\n",
              "    <tr>\n",
              "      <th>...</th>\n",
              "      <td>...</td>\n",
              "      <td>...</td>\n",
              "      <td>...</td>\n",
              "    </tr>\n",
              "    <tr>\n",
              "      <th>433</th>\n",
              "      <td>wreck</td>\n",
              "      <td>0</td>\n",
              "      <td>30</td>\n",
              "    </tr>\n",
              "    <tr>\n",
              "      <th>434</th>\n",
              "      <td>wreck</td>\n",
              "      <td>1</td>\n",
              "      <td>7</td>\n",
              "    </tr>\n",
              "    <tr>\n",
              "      <th>435</th>\n",
              "      <td>wreckage</td>\n",
              "      <td>1</td>\n",
              "      <td>39</td>\n",
              "    </tr>\n",
              "    <tr>\n",
              "      <th>436</th>\n",
              "      <td>wrecked</td>\n",
              "      <td>0</td>\n",
              "      <td>36</td>\n",
              "    </tr>\n",
              "    <tr>\n",
              "      <th>437</th>\n",
              "      <td>wrecked</td>\n",
              "      <td>1</td>\n",
              "      <td>3</td>\n",
              "    </tr>\n",
              "  </tbody>\n",
              "</table>\n",
              "<p>438 rows × 3 columns</p>\n",
              "</div>"
            ],
            "text/plain": [
              "         decKey  target  id\n",
              "0        ablaze       0  23\n",
              "1        ablaze       1  13\n",
              "2      accident       0  11\n",
              "3      accident       1  24\n",
              "4    aftershock       0  34\n",
              "..          ...     ...  ..\n",
              "433       wreck       0  30\n",
              "434       wreck       1   7\n",
              "435    wreckage       1  39\n",
              "436     wrecked       0  36\n",
              "437     wrecked       1   3\n",
              "\n",
              "[438 rows x 3 columns]"
            ]
          },
          "metadata": {}
        },
        {
          "output_type": "execute_result",
          "data": {
            "text/plain": [
              "Index(['decKey', 'target', 'count'], dtype='object')"
            ]
          },
          "metadata": {},
          "execution_count": 23
        }
      ]
    },
    {
      "cell_type": "code",
      "metadata": {
        "id": "cxrrhnCdmI91"
      },
      "source": [
        "# no_null_key_grouped = no_null_key[['decKey','target','id']].groupby(by=['decKey','target'],sort=True,as_index=False).count()\n",
        "# display(no_null_key_grouped)\n",
        "# no_null_key_grouped['count'] = no_null_key_grouped['id']\n",
        "# no_null_key_grouped = no_null_key_grouped.drop('id',axis=1)\n",
        "# no_null_key_grouped = no_null_key_grouped.sort_values(by='count',ascending=False)\n",
        "# display(no_null_key_grouped)"
      ],
      "execution_count": null,
      "outputs": []
    },
    {
      "cell_type": "code",
      "metadata": {
        "id": "GYV00Wv8pizq"
      },
      "source": [
        "# no_null_key_grouped[no_null_key_grouped['decKey']=='body bags']"
      ],
      "execution_count": null,
      "outputs": []
    },
    {
      "cell_type": "code",
      "metadata": {
        "id": "NtJq5nZGpjzp"
      },
      "source": [
        "# no_null_key_dis = no_null_key_grouped[no_null_key_grouped['target']==1]\n",
        "# no_null_key_no_dis = no_null_key_grouped[no_null_key_grouped['target']==0]"
      ],
      "execution_count": null,
      "outputs": []
    },
    {
      "cell_type": "code",
      "metadata": {
        "id": "seVzdTD5plTp"
      },
      "source": [
        "# top_key_dis = pd.concat([no_null_key_dis.head(10),no_null_key_dis.tail(10)])\n",
        "# top_key_no_dis = pd.concat([no_null_key_no_dis.head(10),no_null_key_no_dis.tail(10)])"
      ],
      "execution_count": null,
      "outputs": []
    },
    {
      "cell_type": "code",
      "metadata": {
        "id": "6PiwQHZkpmgq"
      },
      "source": [
        "# fig, ax = plt.subplots(figsize=(25,10))\n",
        "# ax.bar(x=top_key_dis['decKey'],height=top_key_dis['count'])\n",
        "# # ax.bar(x=top_key_no_dis['decKey'],height=top_key_no_dis['count'])\n",
        "# ax.set_ylabel('Count')\n",
        "# ax.set_title('Disaster by Location Count')\n",
        "# # ax.legend()\n",
        "# plt.show()"
      ],
      "execution_count": null,
      "outputs": []
    },
    {
      "cell_type": "code",
      "metadata": {
        "id": "nNPAPm7HpncP"
      },
      "source": [
        "# fig, ax = plt.subplots(figsize=(30,10))\n",
        "# # ax.bar(x=top_key_dis['decKey'],height=top_key_dis['count'])\n",
        "# ax.bar(x=top_key_no_dis['decKey'],height=top_key_no_dis['count'],color='blue')\n",
        "# ax.set_ylabel('Count')\n",
        "# ax.set_title('No Disaster by Location Count')\n",
        "# # ax.legend()\n",
        "# plt.show()"
      ],
      "execution_count": null,
      "outputs": []
    },
    {
      "cell_type": "code",
      "metadata": {
        "id": "DdnQqUhBYpzX"
      },
      "source": [
        ""
      ],
      "execution_count": null,
      "outputs": []
    },
    {
      "cell_type": "markdown",
      "metadata": {
        "id": "FN2r66d8Yr1n"
      },
      "source": [
        "# Model"
      ]
    },
    {
      "cell_type": "code",
      "metadata": {
        "colab": {
          "base_uri": "https://localhost:8080/",
          "height": 423
        },
        "id": "U2vAkpqqYt1n",
        "outputId": "3e2f0fe5-aabc-49f7-cc51-fe2d0543975d"
      },
      "source": [
        "train_df"
      ],
      "execution_count": null,
      "outputs": [
        {
          "output_type": "execute_result",
          "data": {
            "text/html": [
              "<div>\n",
              "<style scoped>\n",
              "    .dataframe tbody tr th:only-of-type {\n",
              "        vertical-align: middle;\n",
              "    }\n",
              "\n",
              "    .dataframe tbody tr th {\n",
              "        vertical-align: top;\n",
              "    }\n",
              "\n",
              "    .dataframe thead th {\n",
              "        text-align: right;\n",
              "    }\n",
              "</style>\n",
              "<table border=\"1\" class=\"dataframe\">\n",
              "  <thead>\n",
              "    <tr style=\"text-align: right;\">\n",
              "      <th></th>\n",
              "      <th>id</th>\n",
              "      <th>keyword</th>\n",
              "      <th>location</th>\n",
              "      <th>text</th>\n",
              "      <th>target</th>\n",
              "    </tr>\n",
              "  </thead>\n",
              "  <tbody>\n",
              "    <tr>\n",
              "      <th>0</th>\n",
              "      <td>1</td>\n",
              "      <td>NaN</td>\n",
              "      <td>NaN</td>\n",
              "      <td>Our Deeds are the Reason of this #earthquake M...</td>\n",
              "      <td>1</td>\n",
              "    </tr>\n",
              "    <tr>\n",
              "      <th>1</th>\n",
              "      <td>4</td>\n",
              "      <td>NaN</td>\n",
              "      <td>NaN</td>\n",
              "      <td>Forest fire near La Ronge Sask. Canada</td>\n",
              "      <td>1</td>\n",
              "    </tr>\n",
              "    <tr>\n",
              "      <th>2</th>\n",
              "      <td>5</td>\n",
              "      <td>NaN</td>\n",
              "      <td>NaN</td>\n",
              "      <td>All residents asked to 'shelter in place' are ...</td>\n",
              "      <td>1</td>\n",
              "    </tr>\n",
              "    <tr>\n",
              "      <th>3</th>\n",
              "      <td>6</td>\n",
              "      <td>NaN</td>\n",
              "      <td>NaN</td>\n",
              "      <td>13,000 people receive #wildfires evacuation or...</td>\n",
              "      <td>1</td>\n",
              "    </tr>\n",
              "    <tr>\n",
              "      <th>4</th>\n",
              "      <td>7</td>\n",
              "      <td>NaN</td>\n",
              "      <td>NaN</td>\n",
              "      <td>Just got sent this photo from Ruby #Alaska as ...</td>\n",
              "      <td>1</td>\n",
              "    </tr>\n",
              "    <tr>\n",
              "      <th>...</th>\n",
              "      <td>...</td>\n",
              "      <td>...</td>\n",
              "      <td>...</td>\n",
              "      <td>...</td>\n",
              "      <td>...</td>\n",
              "    </tr>\n",
              "    <tr>\n",
              "      <th>7608</th>\n",
              "      <td>10869</td>\n",
              "      <td>NaN</td>\n",
              "      <td>NaN</td>\n",
              "      <td>Two giant cranes holding a bridge collapse int...</td>\n",
              "      <td>1</td>\n",
              "    </tr>\n",
              "    <tr>\n",
              "      <th>7609</th>\n",
              "      <td>10870</td>\n",
              "      <td>NaN</td>\n",
              "      <td>NaN</td>\n",
              "      <td>@aria_ahrary @TheTawniest The out of control w...</td>\n",
              "      <td>1</td>\n",
              "    </tr>\n",
              "    <tr>\n",
              "      <th>7610</th>\n",
              "      <td>10871</td>\n",
              "      <td>NaN</td>\n",
              "      <td>NaN</td>\n",
              "      <td>M1.94 [01:04 UTC]?5km S of Volcano Hawaii. htt...</td>\n",
              "      <td>1</td>\n",
              "    </tr>\n",
              "    <tr>\n",
              "      <th>7611</th>\n",
              "      <td>10872</td>\n",
              "      <td>NaN</td>\n",
              "      <td>NaN</td>\n",
              "      <td>Police investigating after an e-bike collided ...</td>\n",
              "      <td>1</td>\n",
              "    </tr>\n",
              "    <tr>\n",
              "      <th>7612</th>\n",
              "      <td>10873</td>\n",
              "      <td>NaN</td>\n",
              "      <td>NaN</td>\n",
              "      <td>The Latest: More Homes Razed by Northern Calif...</td>\n",
              "      <td>1</td>\n",
              "    </tr>\n",
              "  </tbody>\n",
              "</table>\n",
              "<p>7613 rows × 5 columns</p>\n",
              "</div>"
            ],
            "text/plain": [
              "         id keyword  ...                                               text target\n",
              "0         1     NaN  ...  Our Deeds are the Reason of this #earthquake M...      1\n",
              "1         4     NaN  ...             Forest fire near La Ronge Sask. Canada      1\n",
              "2         5     NaN  ...  All residents asked to 'shelter in place' are ...      1\n",
              "3         6     NaN  ...  13,000 people receive #wildfires evacuation or...      1\n",
              "4         7     NaN  ...  Just got sent this photo from Ruby #Alaska as ...      1\n",
              "...     ...     ...  ...                                                ...    ...\n",
              "7608  10869     NaN  ...  Two giant cranes holding a bridge collapse int...      1\n",
              "7609  10870     NaN  ...  @aria_ahrary @TheTawniest The out of control w...      1\n",
              "7610  10871     NaN  ...  M1.94 [01:04 UTC]?5km S of Volcano Hawaii. htt...      1\n",
              "7611  10872     NaN  ...  Police investigating after an e-bike collided ...      1\n",
              "7612  10873     NaN  ...  The Latest: More Homes Razed by Northern Calif...      1\n",
              "\n",
              "[7613 rows x 5 columns]"
            ]
          },
          "metadata": {},
          "execution_count": 30
        }
      ]
    },
    {
      "cell_type": "code",
      "metadata": {
        "colab": {
          "base_uri": "https://localhost:8080/",
          "height": 423
        },
        "id": "MRRxfOkQYyyS",
        "outputId": "b2f25dfb-2b47-4fc1-ad3f-df9e07bd2e6e"
      },
      "source": [
        "#just going to use the text and target\n",
        "train_df_old = train_df.copy()\n",
        "del train_df\n",
        "train_df = train_df_old[['text','target']]\n",
        "train_df"
      ],
      "execution_count": null,
      "outputs": [
        {
          "output_type": "execute_result",
          "data": {
            "text/html": [
              "<div>\n",
              "<style scoped>\n",
              "    .dataframe tbody tr th:only-of-type {\n",
              "        vertical-align: middle;\n",
              "    }\n",
              "\n",
              "    .dataframe tbody tr th {\n",
              "        vertical-align: top;\n",
              "    }\n",
              "\n",
              "    .dataframe thead th {\n",
              "        text-align: right;\n",
              "    }\n",
              "</style>\n",
              "<table border=\"1\" class=\"dataframe\">\n",
              "  <thead>\n",
              "    <tr style=\"text-align: right;\">\n",
              "      <th></th>\n",
              "      <th>text</th>\n",
              "      <th>target</th>\n",
              "    </tr>\n",
              "  </thead>\n",
              "  <tbody>\n",
              "    <tr>\n",
              "      <th>0</th>\n",
              "      <td>Our Deeds are the Reason of this #earthquake M...</td>\n",
              "      <td>1</td>\n",
              "    </tr>\n",
              "    <tr>\n",
              "      <th>1</th>\n",
              "      <td>Forest fire near La Ronge Sask. Canada</td>\n",
              "      <td>1</td>\n",
              "    </tr>\n",
              "    <tr>\n",
              "      <th>2</th>\n",
              "      <td>All residents asked to 'shelter in place' are ...</td>\n",
              "      <td>1</td>\n",
              "    </tr>\n",
              "    <tr>\n",
              "      <th>3</th>\n",
              "      <td>13,000 people receive #wildfires evacuation or...</td>\n",
              "      <td>1</td>\n",
              "    </tr>\n",
              "    <tr>\n",
              "      <th>4</th>\n",
              "      <td>Just got sent this photo from Ruby #Alaska as ...</td>\n",
              "      <td>1</td>\n",
              "    </tr>\n",
              "    <tr>\n",
              "      <th>...</th>\n",
              "      <td>...</td>\n",
              "      <td>...</td>\n",
              "    </tr>\n",
              "    <tr>\n",
              "      <th>7608</th>\n",
              "      <td>Two giant cranes holding a bridge collapse int...</td>\n",
              "      <td>1</td>\n",
              "    </tr>\n",
              "    <tr>\n",
              "      <th>7609</th>\n",
              "      <td>@aria_ahrary @TheTawniest The out of control w...</td>\n",
              "      <td>1</td>\n",
              "    </tr>\n",
              "    <tr>\n",
              "      <th>7610</th>\n",
              "      <td>M1.94 [01:04 UTC]?5km S of Volcano Hawaii. htt...</td>\n",
              "      <td>1</td>\n",
              "    </tr>\n",
              "    <tr>\n",
              "      <th>7611</th>\n",
              "      <td>Police investigating after an e-bike collided ...</td>\n",
              "      <td>1</td>\n",
              "    </tr>\n",
              "    <tr>\n",
              "      <th>7612</th>\n",
              "      <td>The Latest: More Homes Razed by Northern Calif...</td>\n",
              "      <td>1</td>\n",
              "    </tr>\n",
              "  </tbody>\n",
              "</table>\n",
              "<p>7613 rows × 2 columns</p>\n",
              "</div>"
            ],
            "text/plain": [
              "                                                   text  target\n",
              "0     Our Deeds are the Reason of this #earthquake M...       1\n",
              "1                Forest fire near La Ronge Sask. Canada       1\n",
              "2     All residents asked to 'shelter in place' are ...       1\n",
              "3     13,000 people receive #wildfires evacuation or...       1\n",
              "4     Just got sent this photo from Ruby #Alaska as ...       1\n",
              "...                                                 ...     ...\n",
              "7608  Two giant cranes holding a bridge collapse int...       1\n",
              "7609  @aria_ahrary @TheTawniest The out of control w...       1\n",
              "7610  M1.94 [01:04 UTC]?5km S of Volcano Hawaii. htt...       1\n",
              "7611  Police investigating after an e-bike collided ...       1\n",
              "7612  The Latest: More Homes Razed by Northern Calif...       1\n",
              "\n",
              "[7613 rows x 2 columns]"
            ]
          },
          "metadata": {},
          "execution_count": 31
        }
      ]
    },
    {
      "cell_type": "code",
      "source": [
        "train_df.loc[0].text"
      ],
      "metadata": {
        "colab": {
          "base_uri": "https://localhost:8080/",
          "height": 35
        },
        "id": "bsflWnTyvAvj",
        "outputId": "076844d8-98d5-4179-a00e-a6c3bf766300"
      },
      "execution_count": null,
      "outputs": [
        {
          "output_type": "execute_result",
          "data": {
            "application/vnd.google.colaboratory.intrinsic+json": {
              "type": "string"
            },
            "text/plain": [
              "'Our Deeds are the Reason of this #earthquake May ALLAH Forgive us all'"
            ]
          },
          "metadata": {},
          "execution_count": 32
        }
      ]
    },
    {
      "cell_type": "code",
      "metadata": {
        "id": "gcBq9RIDZS9L"
      },
      "source": [
        "train, test = train_test_split(train_df, test_size=0.15, random_state=42)"
      ],
      "execution_count": null,
      "outputs": []
    },
    {
      "cell_type": "code",
      "metadata": {
        "id": "eEkOOx3HaCBZ"
      },
      "source": [
        "X_train = train['text']\n",
        "X_test = test['text']\n",
        "y_train = train['target']\n",
        "y_test = test['target']"
      ],
      "execution_count": null,
      "outputs": []
    },
    {
      "cell_type": "code",
      "metadata": {
        "colab": {
          "base_uri": "https://localhost:8080/"
        },
        "id": "YDydXwk1aXBq",
        "outputId": "89ac223a-c92f-4545-f3a2-3abd73970b2f"
      },
      "source": [
        "import tensorflow_hub as hub\n",
        "import tensorflow as tf\n",
        "import tensorflow_datasets as tfds\n",
        "\n",
        "from tensorflow.keras.layers import Input, Dense, Dropout, Flatten, Embedding\n",
        "from tensorflow.keras.preprocessing.sequence import pad_sequences\n",
        "from tensorflow.keras.models import Model, Sequential\n",
        "from tensorflow.keras.callbacks import EarlyStopping\n",
        "from keras.preprocessing.text import Tokenizer\n",
        "\n",
        "print(\"Version: \", tf.__version__)\n",
        "print(\"Eager mode: \", tf.executing_eagerly())\n",
        "print(\"Hub version: \", hub.__version__)\n",
        "print(\"GPU is\", \"available\" if tf.config.list_physical_devices('GPU') else \"NOT AVAILABLE\")"
      ],
      "execution_count": null,
      "outputs": [
        {
          "output_type": "stream",
          "name": "stdout",
          "text": [
            "Version:  2.7.0\n",
            "Eager mode:  True\n",
            "Hub version:  0.12.0\n",
            "GPU is available\n"
          ]
        }
      ]
    },
    {
      "cell_type": "code",
      "metadata": {
        "colab": {
          "base_uri": "https://localhost:8080/"
        },
        "id": "vF25eeBvap1f",
        "outputId": "744fb252-81ac-4b51-da60-85dd611875f4"
      },
      "source": [
        "mod = \"https://tfhub.dev/google/nnlm-en-dim50/2\"\n",
        "hub_layer = hub.KerasLayer(mod, input_shape=[], dtype=tf.string, trainable=True)\n",
        "hub_layer(X_train[:3])"
      ],
      "execution_count": null,
      "outputs": [
        {
          "output_type": "execute_result",
          "data": {
            "text/plain": [
              "<tf.Tensor: shape=(3, 50), dtype=float32, numpy=\n",
              "array([[ 0.38306904, -0.26895744, -0.1783666 , -0.05940446, -0.1418173 ,\n",
              "        -0.02581871, -0.16207267, -0.02527309,  0.13453504, -0.10728086,\n",
              "        -0.28815022,  0.17120948,  0.42583925,  0.03508604,  0.13450435,\n",
              "         0.14326034,  0.07433679, -0.26144627,  0.04642232, -0.00980929,\n",
              "         0.06049365, -0.03286843,  0.07263126,  0.11214203, -0.36324373,\n",
              "         0.21613836, -0.04129212,  0.07044894, -0.45675507, -0.10476655,\n",
              "        -0.09517228, -0.02559366,  0.02278632, -0.05655023,  0.06491455,\n",
              "        -0.2687193 , -0.10636877,  0.07197054, -0.02314625,  0.11502782,\n",
              "        -0.4052743 , -0.02582416, -0.1307396 , -0.12363352, -0.1977048 ,\n",
              "         0.04596464,  0.19815515,  0.28096366,  0.02721545, -0.07089735],\n",
              "       [ 0.15176238, -0.46694568,  0.33788937,  0.0048677 , -0.28616798,\n",
              "        -0.09412175, -0.04541719,  0.06752358, -0.077677  ,  0.21818641,\n",
              "        -0.03859768,  0.40443882, -0.0900542 , -0.04961128,  0.05647644,\n",
              "        -0.05331834,  0.23899996, -0.44657072, -0.2301244 ,  0.18256637,\n",
              "        -0.19768131,  0.3282443 , -0.04290979, -0.01244904,  0.03044318,\n",
              "        -0.49192348,  0.20889948,  0.19527034, -0.10115638, -0.03307341,\n",
              "         0.12366613,  0.15418833, -0.13283876, -0.12566999, -0.02397194,\n",
              "        -0.26050133, -0.07584114, -0.1698218 , -0.07536647,  0.16087218,\n",
              "        -0.24831437,  0.00329917,  0.1351668 ,  0.26808015,  0.02687235,\n",
              "        -0.01683814, -0.07374528,  0.09696986,  0.12939812, -0.01211629],\n",
              "       [ 0.39644098,  0.22465122, -0.23337868,  0.1569092 ,  0.27614072,\n",
              "         0.0142856 , -0.26271397, -0.4003396 , -0.13023743,  0.0512762 ,\n",
              "        -0.08755524,  0.09207953, -0.09789256,  0.10891791, -0.11526833,\n",
              "        -0.10938741,  0.13020298,  0.20387204, -0.00465775, -0.09117494,\n",
              "         0.02457459, -0.15197548,  0.03825847,  0.24289443, -0.19811308,\n",
              "        -0.01821533,  0.02283201, -0.15308486,  0.05165397,  0.14402236,\n",
              "        -0.30340758,  0.33089668, -0.17213912,  0.03048166, -0.18205506,\n",
              "        -0.02010404, -0.17385793,  0.23313148, -0.04161589,  0.02987385,\n",
              "        -0.00621171, -0.22220938, -0.00638116, -0.00916839, -0.09654933,\n",
              "        -0.224577  ,  0.07314965,  0.132939  , -0.01145758,  0.02355303]],\n",
              "      dtype=float32)>"
            ]
          },
          "metadata": {},
          "execution_count": 36
        }
      ]
    },
    {
      "cell_type": "code",
      "metadata": {
        "colab": {
          "base_uri": "https://localhost:8080/"
        },
        "id": "GFqWHbygfwIR",
        "outputId": "77e6d538-55e3-485f-ef3c-23db95f4c8af"
      },
      "source": [
        "model = tf.keras.Sequential()\n",
        "model.add(hub_layer)\n",
        "model.add(tf.keras.layers.Dropout(0.85))\n",
        "model.add(tf.keras.layers.Dense(16, activation='relu'))\n",
        "model.add(tf.keras.layers.Dropout(0.5))\n",
        "model.add(tf.keras.layers.Dense(1))\n",
        "\n",
        "model.summary()"
      ],
      "execution_count": null,
      "outputs": [
        {
          "output_type": "stream",
          "name": "stdout",
          "text": [
            "Model: \"sequential\"\n",
            "_________________________________________________________________\n",
            " Layer (type)                Output Shape              Param #   \n",
            "=================================================================\n",
            " keras_layer (KerasLayer)    (None, 50)                48190600  \n",
            "                                                                 \n",
            " dropout (Dropout)           (None, 50)                0         \n",
            "                                                                 \n",
            " dense (Dense)               (None, 16)                816       \n",
            "                                                                 \n",
            " dropout_1 (Dropout)         (None, 16)                0         \n",
            "                                                                 \n",
            " dense_1 (Dense)             (None, 1)                 17        \n",
            "                                                                 \n",
            "=================================================================\n",
            "Total params: 48,191,433\n",
            "Trainable params: 48,191,433\n",
            "Non-trainable params: 0\n",
            "_________________________________________________________________\n"
          ]
        }
      ]
    },
    {
      "cell_type": "code",
      "metadata": {
        "id": "uhc8JO-Sf4OU"
      },
      "source": [
        "model.compile(optimizer='adam', loss=tf.losses.BinaryCrossentropy(from_logits=True), \n",
        "              metrics=[tf.metrics.BinaryAccuracy(threshold=0.0, name='accuracy')])"
      ],
      "execution_count": null,
      "outputs": []
    },
    {
      "cell_type": "code",
      "metadata": {
        "colab": {
          "base_uri": "https://localhost:8080/"
        },
        "id": "Q-wmn7uchYVL",
        "outputId": "c062aea1-beee-4269-fbea-3c660e80cd04"
      },
      "source": [
        "n_train = len(X_train)\n",
        "n_86perc = int(n_train//1.17)\n",
        "X_train_part = X_train[:n_86perc]\n",
        "X_val = X_train[n_86perc:]\n",
        "y_train_part = y_train[:n_86perc]\n",
        "y_val = y_train[n_86perc:]\n",
        "print(f\"full length:{len(X_train)}\\npartial training length: {len(X_train_part)}\\nvalidation length: {len(X_val)}\")"
      ],
      "execution_count": null,
      "outputs": [
        {
          "output_type": "stream",
          "name": "stdout",
          "text": [
            "full length:6471\n",
            "partial training length: 5530\n",
            "validation length: 941\n"
          ]
        }
      ]
    },
    {
      "cell_type": "code",
      "metadata": {
        "id": "wU-5l0cPp63c"
      },
      "source": [
        "# resolver = tf.distribute.cluster_resolver.TPUClusterResolver(tpu='')\n",
        "# tf.config.experimental_connect_to_cluster(resolver)\n",
        "# # This is the TPU initialization code that has to be at the beginning.\n",
        "# tf.tpu.experimental.initialize_tpu_system(resolver)\n",
        "# print(\"All devices: \", tf.config.list_logical_devices('TPU'))"
      ],
      "execution_count": null,
      "outputs": []
    },
    {
      "cell_type": "code",
      "metadata": {
        "colab": {
          "base_uri": "https://localhost:8080/"
        },
        "id": "AWZEe4fUgAkH",
        "outputId": "08c824d5-ecfe-4371-9d1b-9af42306485f"
      },
      "source": [
        "history = model.fit( X_train_part, y_train_part,\n",
        "                    epochs=40, batch_size=512,\n",
        "                    validation_data=(X_val, y_val), verbose=1)"
      ],
      "execution_count": null,
      "outputs": [
        {
          "output_type": "stream",
          "name": "stdout",
          "text": [
            "Epoch 1/40\n",
            "11/11 [==============================] - 3s 84ms/step - loss: 0.7394 - accuracy: 0.5492 - val_loss: 0.6631 - val_accuracy: 0.6249\n",
            "Epoch 2/40\n",
            "11/11 [==============================] - 1s 61ms/step - loss: 0.7116 - accuracy: 0.5631 - val_loss: 0.6543 - val_accuracy: 0.6684\n",
            "Epoch 3/40\n",
            "11/11 [==============================] - 1s 61ms/step - loss: 0.7020 - accuracy: 0.5676 - val_loss: 0.6472 - val_accuracy: 0.6897\n",
            "Epoch 4/40\n",
            "11/11 [==============================] - 1s 61ms/step - loss: 0.6837 - accuracy: 0.5826 - val_loss: 0.6413 - val_accuracy: 0.7024\n",
            "Epoch 5/40\n",
            "11/11 [==============================] - 1s 62ms/step - loss: 0.6780 - accuracy: 0.5850 - val_loss: 0.6362 - val_accuracy: 0.7216\n",
            "Epoch 6/40\n",
            "11/11 [==============================] - 1s 63ms/step - loss: 0.6670 - accuracy: 0.5928 - val_loss: 0.6315 - val_accuracy: 0.7269\n",
            "Epoch 7/40\n",
            "11/11 [==============================] - 1s 63ms/step - loss: 0.6551 - accuracy: 0.6118 - val_loss: 0.6263 - val_accuracy: 0.7322\n",
            "Epoch 8/40\n",
            "11/11 [==============================] - 1s 60ms/step - loss: 0.6595 - accuracy: 0.6072 - val_loss: 0.6211 - val_accuracy: 0.7386\n",
            "Epoch 9/40\n",
            "11/11 [==============================] - 1s 61ms/step - loss: 0.6432 - accuracy: 0.6217 - val_loss: 0.6160 - val_accuracy: 0.7428\n",
            "Epoch 10/40\n",
            "11/11 [==============================] - 1s 61ms/step - loss: 0.6413 - accuracy: 0.6231 - val_loss: 0.6107 - val_accuracy: 0.7503\n",
            "Epoch 11/40\n",
            "11/11 [==============================] - 1s 61ms/step - loss: 0.6316 - accuracy: 0.6329 - val_loss: 0.6046 - val_accuracy: 0.7577\n",
            "Epoch 12/40\n",
            "11/11 [==============================] - 1s 59ms/step - loss: 0.6205 - accuracy: 0.6461 - val_loss: 0.5979 - val_accuracy: 0.7598\n",
            "Epoch 13/40\n",
            "11/11 [==============================] - 1s 61ms/step - loss: 0.6135 - accuracy: 0.6664 - val_loss: 0.5913 - val_accuracy: 0.7651\n",
            "Epoch 14/40\n",
            "11/11 [==============================] - 1s 61ms/step - loss: 0.6032 - accuracy: 0.6720 - val_loss: 0.5842 - val_accuracy: 0.7673\n",
            "Epoch 15/40\n",
            "11/11 [==============================] - 1s 61ms/step - loss: 0.5986 - accuracy: 0.6743 - val_loss: 0.5767 - val_accuracy: 0.7641\n",
            "Epoch 16/40\n",
            "11/11 [==============================] - 1s 60ms/step - loss: 0.5869 - accuracy: 0.6879 - val_loss: 0.5689 - val_accuracy: 0.7694\n",
            "Epoch 17/40\n",
            "11/11 [==============================] - 1s 60ms/step - loss: 0.5854 - accuracy: 0.6991 - val_loss: 0.5611 - val_accuracy: 0.7705\n",
            "Epoch 18/40\n",
            "11/11 [==============================] - 1s 60ms/step - loss: 0.5743 - accuracy: 0.7096 - val_loss: 0.5533 - val_accuracy: 0.7705\n",
            "Epoch 19/40\n",
            "11/11 [==============================] - 1s 63ms/step - loss: 0.5659 - accuracy: 0.7069 - val_loss: 0.5452 - val_accuracy: 0.7705\n",
            "Epoch 20/40\n",
            "11/11 [==============================] - 1s 62ms/step - loss: 0.5556 - accuracy: 0.7215 - val_loss: 0.5377 - val_accuracy: 0.7694\n",
            "Epoch 21/40\n",
            "11/11 [==============================] - 1s 62ms/step - loss: 0.5474 - accuracy: 0.7248 - val_loss: 0.5296 - val_accuracy: 0.7705\n",
            "Epoch 22/40\n",
            "11/11 [==============================] - 1s 61ms/step - loss: 0.5274 - accuracy: 0.7405 - val_loss: 0.5215 - val_accuracy: 0.7683\n",
            "Epoch 23/40\n",
            "11/11 [==============================] - 1s 62ms/step - loss: 0.5367 - accuracy: 0.7351 - val_loss: 0.5143 - val_accuracy: 0.7694\n",
            "Epoch 24/40\n",
            "11/11 [==============================] - 1s 61ms/step - loss: 0.5253 - accuracy: 0.7479 - val_loss: 0.5084 - val_accuracy: 0.7694\n",
            "Epoch 25/40\n",
            "11/11 [==============================] - 1s 62ms/step - loss: 0.5259 - accuracy: 0.7470 - val_loss: 0.5027 - val_accuracy: 0.7715\n",
            "Epoch 26/40\n",
            "11/11 [==============================] - 1s 62ms/step - loss: 0.4974 - accuracy: 0.7680 - val_loss: 0.4967 - val_accuracy: 0.7715\n",
            "Epoch 27/40\n",
            "11/11 [==============================] - 1s 62ms/step - loss: 0.4942 - accuracy: 0.7703 - val_loss: 0.4911 - val_accuracy: 0.7736\n",
            "Epoch 28/40\n",
            "11/11 [==============================] - 1s 63ms/step - loss: 0.4885 - accuracy: 0.7698 - val_loss: 0.4859 - val_accuracy: 0.7736\n",
            "Epoch 29/40\n",
            "11/11 [==============================] - 1s 61ms/step - loss: 0.4876 - accuracy: 0.7723 - val_loss: 0.4814 - val_accuracy: 0.7747\n",
            "Epoch 30/40\n",
            "11/11 [==============================] - 1s 61ms/step - loss: 0.4774 - accuracy: 0.7801 - val_loss: 0.4778 - val_accuracy: 0.7800\n",
            "Epoch 31/40\n",
            "11/11 [==============================] - 1s 61ms/step - loss: 0.4678 - accuracy: 0.7825 - val_loss: 0.4746 - val_accuracy: 0.7811\n",
            "Epoch 32/40\n",
            "11/11 [==============================] - 1s 61ms/step - loss: 0.4560 - accuracy: 0.7910 - val_loss: 0.4712 - val_accuracy: 0.7821\n",
            "Epoch 33/40\n",
            "11/11 [==============================] - 1s 63ms/step - loss: 0.4493 - accuracy: 0.8011 - val_loss: 0.4684 - val_accuracy: 0.7821\n",
            "Epoch 34/40\n",
            "11/11 [==============================] - 1s 62ms/step - loss: 0.4399 - accuracy: 0.8089 - val_loss: 0.4659 - val_accuracy: 0.7832\n",
            "Epoch 35/40\n",
            "11/11 [==============================] - 1s 62ms/step - loss: 0.4376 - accuracy: 0.8031 - val_loss: 0.4637 - val_accuracy: 0.7790\n",
            "Epoch 36/40\n",
            "11/11 [==============================] - 1s 63ms/step - loss: 0.4215 - accuracy: 0.8105 - val_loss: 0.4621 - val_accuracy: 0.7768\n",
            "Epoch 37/40\n",
            "11/11 [==============================] - 1s 59ms/step - loss: 0.4126 - accuracy: 0.8255 - val_loss: 0.4608 - val_accuracy: 0.7800\n",
            "Epoch 38/40\n",
            "11/11 [==============================] - 1s 64ms/step - loss: 0.4122 - accuracy: 0.8228 - val_loss: 0.4596 - val_accuracy: 0.7832\n",
            "Epoch 39/40\n",
            "11/11 [==============================] - 1s 60ms/step - loss: 0.4093 - accuracy: 0.8315 - val_loss: 0.4592 - val_accuracy: 0.7821\n",
            "Epoch 40/40\n",
            "11/11 [==============================] - 1s 63ms/step - loss: 0.3977 - accuracy: 0.8313 - val_loss: 0.4589 - val_accuracy: 0.7843\n"
          ]
        }
      ]
    },
    {
      "cell_type": "code",
      "metadata": {
        "colab": {
          "base_uri": "https://localhost:8080/"
        },
        "id": "jY7Jag2BgGsh",
        "outputId": "74781039-bb4e-4e11-f191-1229861520a1"
      },
      "source": [
        "results = model.evaluate(X_test, y_test)\n",
        "print(f\"\\nTest set evaluation results:\")\n",
        "for i,x in enumerate(results):\n",
        "    print(f\"{model.metrics_names[i]} : {x : 0.4f}\")\n",
        "\n",
        "# print(f\"{results}\")"
      ],
      "execution_count": null,
      "outputs": [
        {
          "output_type": "stream",
          "name": "stdout",
          "text": [
            "36/36 [==============================] - 0s 7ms/step - loss: 0.4785 - accuracy: 0.7811\n",
            "\n",
            "Test set evaluation results:\n",
            "loss :  0.4785\n",
            "accuracy :  0.7811\n"
          ]
        }
      ]
    },
    {
      "cell_type": "code",
      "metadata": {
        "colab": {
          "base_uri": "https://localhost:8080/"
        },
        "id": "P8ks29Fzgmh5",
        "outputId": "0d79e4a6-7ab0-47bf-e9f8-d14d3c2523af"
      },
      "source": [
        "history_dict = history.history\n",
        "history_dict.keys()"
      ],
      "execution_count": null,
      "outputs": [
        {
          "output_type": "execute_result",
          "data": {
            "text/plain": [
              "dict_keys(['loss', 'accuracy', 'val_loss', 'val_accuracy'])"
            ]
          },
          "metadata": {},
          "execution_count": 43
        }
      ]
    },
    {
      "cell_type": "code",
      "metadata": {
        "colab": {
          "base_uri": "https://localhost:8080/",
          "height": 295
        },
        "id": "12nQOUp9gvNJ",
        "outputId": "86b0844f-76c2-4b56-b338-cf44fdccead7"
      },
      "source": [
        "acc = history_dict['accuracy']\n",
        "val_acc = history_dict['val_accuracy']\n",
        "loss = history_dict['loss']\n",
        "val_loss = history_dict['val_loss']\n",
        "\n",
        "epochs = range(1, len(acc) + 1)\n",
        "\n",
        "# \"bo\" is for \"blue dot\"\n",
        "plt.plot(epochs, loss, 'bo', label='Training loss')\n",
        "# b is for \"solid blue line\"\n",
        "plt.plot(epochs, val_loss, 'b', label='Validation loss')\n",
        "plt.title('Training and validation loss')\n",
        "# plt.title('Training loss')\n",
        "plt.xlabel('Epochs')\n",
        "plt.ylabel('Loss')\n",
        "plt.legend()\n",
        "\n",
        "plt.show()"
      ],
      "execution_count": null,
      "outputs": [
        {
          "output_type": "display_data",
          "data": {
            "image/png": "[encoded data removed]",
            "text/plain": [
              "<Figure size 432x288 with 1 Axes>"
            ]
          },
          "metadata": {
            "needs_background": "light"
          }
        }
      ]
    },
    {
      "cell_type": "code",
      "metadata": {
        "colab": {
          "base_uri": "https://localhost:8080/",
          "height": 295
        },
        "id": "nZMIx1DHgvgn",
        "outputId": "7c3ca5b5-b787-4786-ad40-f99eac7c41b6"
      },
      "source": [
        "plt.clf()   # clear figure\n",
        "\n",
        "plt.plot(epochs, acc, 'bo', label='Training acc')\n",
        "plt.plot(epochs, val_acc, 'b', label='Validation acc')\n",
        "# plt.title('Training accuracy')\n",
        "plt.title('Training and validation accuracy')\n",
        "plt.xlabel('Epochs')\n",
        "plt.ylabel('Accuracy')\n",
        "plt.legend()\n",
        "\n",
        "plt.show()"
      ],
      "execution_count": null,
      "outputs": [
        {
          "output_type": "display_data",
          "data": {
            "image/png": "[encoded data removed]",
            "text/plain": [
              "<Figure size 432x288 with 1 Axes>"
            ]
          },
          "metadata": {
            "needs_background": "light"
          }
        }
      ]
    },
    {
      "cell_type": "code",
      "source": [
        "X_test"
      ],
      "metadata": {
        "colab": {
          "base_uri": "https://localhost:8080/"
        },
        "id": "6ayt-tQBuPIu",
        "outputId": "c8b70a39-1a42-4e76-de23-f22a3f303d9d"
      },
      "execution_count": null,
      "outputs": [
        {
          "output_type": "execute_result",
          "data": {
            "text/plain": [
              "2644    So you have a new weapon that can cause un-ima...\n",
              "2227    The f$&amp;@ing things I do for #GISHWHES Just...\n",
              "5448    DT @georgegalloway: RT @Galloway4Mayor: ÛÏThe...\n",
              "132     Aftershock back to school kick off was great. ...\n",
              "6845    in response to trauma Children of Addicts deve...\n",
              "                              ...                        \n",
              "1393    ??\\nWarfighting Robots Could Reduce Civilian C...\n",
              "1335    @fewmoretweets all lives matter. Just not a fa...\n",
              "5717    WomanÛªs GPS app guides rescuers to injured b...\n",
              "4921    Tonight It's Going To Be Mayhem @ #4PlayThursd...\n",
              "198       Why is there an ambulance right outside my work\n",
              "Name: text, Length: 1142, dtype: object"
            ]
          },
          "metadata": {},
          "execution_count": 46
        }
      ]
    },
    {
      "cell_type": "code",
      "metadata": {
        "colab": {
          "base_uri": "https://localhost:8080/"
        },
        "id": "psVYYmK1g-YO",
        "outputId": "1500f124-d9c9-4359-c3ae-f9ce5fde3afb"
      },
      "source": [
        "from sklearn.metrics import f1_score\n",
        "\n",
        "preds_test = model.predict(X_test)\n",
        "print(f\"f1 score: {f1_score(y_test, preds_test > 0)}\")"
      ],
      "execution_count": null,
      "outputs": [
        {
          "output_type": "stream",
          "name": "stdout",
          "text": [
            "f1 score: 0.736842105263158\n"
          ]
        }
      ]
    },
    {
      "cell_type": "code",
      "source": [
        "print(tf.__version__)"
      ],
      "metadata": {
        "colab": {
          "base_uri": "https://localhost:8080/"
        },
        "id": "OcoNouHptvrd",
        "outputId": "892ce6e9-dde0-41a0-ae4e-87f8b9551397"
      },
      "execution_count": null,
      "outputs": [
        {
          "output_type": "stream",
          "name": "stdout",
          "text": [
            "2.7.0\n"
          ]
        }
      ]
    },
    {
      "cell_type": "code",
      "metadata": {
        "id": "rFhnxQDGlK2A",
        "colab": {
          "base_uri": "https://localhost:8080/"
        },
        "outputId": "1bdd54d1-61ba-48f9-92cc-87d22ac70604"
      },
      "source": [
        "model.save('model',save_format=)"
      ],
      "execution_count": null,
      "outputs": [
        {
          "output_type": "stream",
          "name": "stdout",
          "text": [
            "INFO:tensorflow:Assets written to: model/assets\n"
          ]
        },
        {
          "output_type": "stream",
          "name": "stderr",
          "text": [
            "INFO:tensorflow:Assets written to: model/assets\n"
          ]
        }
      ]
    },
    {
      "cell_type": "code",
      "source": [
        "tf.saved_model.save(model, 'm')"
      ],
      "metadata": {
        "colab": {
          "base_uri": "https://localhost:8080/"
        },
        "id": "e3EnTXAS6R3h",
        "outputId": "62850695-6e59-4c7b-cdea-6e507ed2c002"
      },
      "execution_count": null,
      "outputs": [
        {
          "output_type": "stream",
          "name": "stdout",
          "text": [
            "INFO:tensorflow:Assets written to: m/assets\n"
          ]
        },
        {
          "output_type": "stream",
          "name": "stderr",
          "text": [
            "INFO:tensorflow:Assets written to: m/assets\n"
          ]
        }
      ]
    }
  ]
}