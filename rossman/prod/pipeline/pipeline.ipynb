{
 "cells": [
  {
   "cell_type": "code",
   "execution_count": 1,
   "id": "5d7b3f8f-0e51-410b-8f00-249e858ad4da",
   "metadata": {
    "collapsed": true,
    "jupyter": {
     "outputs_hidden": true
    },
    "tags": []
   },
   "outputs": [
    {
     "name": "stdout",
     "output_type": "stream",
     "text": [
      "Requirement already satisfied: google-cloud-aiplatform==1.7.0 in ./.local/lib/python3.7/site-packages (1.7.0)\n",
      "Requirement already satisfied: google-cloud-bigquery<3.0.0dev,>=1.15.0 in /opt/conda/lib/python3.7/site-packages (from google-cloud-aiplatform==1.7.0) (2.30.1)\n",
      "Requirement already satisfied: google-api-core[grpc]<3.0.0dev,>=1.26.0 in ./.local/lib/python3.7/site-packages (from google-cloud-aiplatform==1.7.0) (1.31.4)\n",
      "Requirement already satisfied: packaging>=14.3 in /opt/conda/lib/python3.7/site-packages (from google-cloud-aiplatform==1.7.0) (21.0)\n",
      "Requirement already satisfied: google-cloud-storage<2.0.0dev,>=1.32.0 in /opt/conda/lib/python3.7/site-packages (from google-cloud-aiplatform==1.7.0) (1.43.0)\n",
      "Requirement already satisfied: proto-plus>=1.10.1 in /opt/conda/lib/python3.7/site-packages (from google-cloud-aiplatform==1.7.0) (1.19.8)\n",
      "Requirement already satisfied: googleapis-common-protos<2.0dev,>=1.6.0 in /opt/conda/lib/python3.7/site-packages (from google-api-core[grpc]<3.0.0dev,>=1.26.0->google-cloud-aiplatform==1.7.0) (1.53.0)\n",
      "Requirement already satisfied: pytz in /opt/conda/lib/python3.7/site-packages (from google-api-core[grpc]<3.0.0dev,>=1.26.0->google-cloud-aiplatform==1.7.0) (2021.3)\n",
      "Requirement already satisfied: requests<3.0.0dev,>=2.18.0 in /opt/conda/lib/python3.7/site-packages (from google-api-core[grpc]<3.0.0dev,>=1.26.0->google-cloud-aiplatform==1.7.0) (2.25.1)\n",
      "Requirement already satisfied: google-auth<2.0dev,>=1.25.0 in ./.local/lib/python3.7/site-packages (from google-api-core[grpc]<3.0.0dev,>=1.26.0->google-cloud-aiplatform==1.7.0) (1.35.0)\n",
      "Requirement already satisfied: setuptools>=40.3.0 in /opt/conda/lib/python3.7/site-packages (from google-api-core[grpc]<3.0.0dev,>=1.26.0->google-cloud-aiplatform==1.7.0) (59.1.1)\n",
      "Requirement already satisfied: six>=1.13.0 in /opt/conda/lib/python3.7/site-packages (from google-api-core[grpc]<3.0.0dev,>=1.26.0->google-cloud-aiplatform==1.7.0) (1.16.0)\n",
      "Requirement already satisfied: protobuf>=3.12.0 in /opt/conda/lib/python3.7/site-packages (from google-api-core[grpc]<3.0.0dev,>=1.26.0->google-cloud-aiplatform==1.7.0) (3.19.1)\n",
      "Requirement already satisfied: grpcio<2.0dev,>=1.29.0 in /opt/conda/lib/python3.7/site-packages (from google-api-core[grpc]<3.0.0dev,>=1.26.0->google-cloud-aiplatform==1.7.0) (1.42.0)\n",
      "Requirement already satisfied: google-resumable-media<3.0dev,>=0.6.0 in /opt/conda/lib/python3.7/site-packages (from google-cloud-bigquery<3.0.0dev,>=1.15.0->google-cloud-aiplatform==1.7.0) (2.1.0)\n",
      "Requirement already satisfied: google-cloud-core<3.0.0dev,>=1.4.1 in /opt/conda/lib/python3.7/site-packages (from google-cloud-bigquery<3.0.0dev,>=1.15.0->google-cloud-aiplatform==1.7.0) (2.2.1)\n",
      "Requirement already satisfied: python-dateutil<3.0dev,>=2.7.2 in /opt/conda/lib/python3.7/site-packages (from google-cloud-bigquery<3.0.0dev,>=1.15.0->google-cloud-aiplatform==1.7.0) (2.8.2)\n",
      "Requirement already satisfied: pyparsing>=2.0.2 in /opt/conda/lib/python3.7/site-packages (from packaging>=14.3->google-cloud-aiplatform==1.7.0) (3.0.6)\n",
      "Requirement already satisfied: rsa<5,>=3.1.4 in /opt/conda/lib/python3.7/site-packages (from google-auth<2.0dev,>=1.25.0->google-api-core[grpc]<3.0.0dev,>=1.26.0->google-cloud-aiplatform==1.7.0) (4.7.2)\n",
      "Requirement already satisfied: cachetools<5.0,>=2.0.0 in /opt/conda/lib/python3.7/site-packages (from google-auth<2.0dev,>=1.25.0->google-api-core[grpc]<3.0.0dev,>=1.26.0->google-cloud-aiplatform==1.7.0) (4.2.4)\n",
      "Requirement already satisfied: pyasn1-modules>=0.2.1 in /opt/conda/lib/python3.7/site-packages (from google-auth<2.0dev,>=1.25.0->google-api-core[grpc]<3.0.0dev,>=1.26.0->google-cloud-aiplatform==1.7.0) (0.2.7)\n",
      "Requirement already satisfied: google-crc32c<2.0dev,>=1.0 in /opt/conda/lib/python3.7/site-packages (from google-resumable-media<3.0dev,>=0.6.0->google-cloud-bigquery<3.0.0dev,>=1.15.0->google-cloud-aiplatform==1.7.0) (1.1.2)\n",
      "Requirement already satisfied: idna<3,>=2.5 in /opt/conda/lib/python3.7/site-packages (from requests<3.0.0dev,>=2.18.0->google-api-core[grpc]<3.0.0dev,>=1.26.0->google-cloud-aiplatform==1.7.0) (2.10)\n",
      "Requirement already satisfied: urllib3<1.27,>=1.21.1 in /opt/conda/lib/python3.7/site-packages (from requests<3.0.0dev,>=2.18.0->google-api-core[grpc]<3.0.0dev,>=1.26.0->google-cloud-aiplatform==1.7.0) (1.26.7)\n",
      "Requirement already satisfied: chardet<5,>=3.0.2 in /opt/conda/lib/python3.7/site-packages (from requests<3.0.0dev,>=2.18.0->google-api-core[grpc]<3.0.0dev,>=1.26.0->google-cloud-aiplatform==1.7.0) (4.0.0)\n",
      "Requirement already satisfied: certifi>=2017.4.17 in /opt/conda/lib/python3.7/site-packages (from requests<3.0.0dev,>=2.18.0->google-api-core[grpc]<3.0.0dev,>=1.26.0->google-cloud-aiplatform==1.7.0) (2021.10.8)\n",
      "Requirement already satisfied: cffi>=1.0.0 in /opt/conda/lib/python3.7/site-packages (from google-crc32c<2.0dev,>=1.0->google-resumable-media<3.0dev,>=0.6.0->google-cloud-bigquery<3.0.0dev,>=1.15.0->google-cloud-aiplatform==1.7.0) (1.15.0)\n",
      "Requirement already satisfied: pyasn1<0.5.0,>=0.4.6 in /opt/conda/lib/python3.7/site-packages (from pyasn1-modules>=0.2.1->google-auth<2.0dev,>=1.25.0->google-api-core[grpc]<3.0.0dev,>=1.26.0->google-cloud-aiplatform==1.7.0) (0.4.8)\n",
      "Requirement already satisfied: pycparser in /opt/conda/lib/python3.7/site-packages (from cffi>=1.0.0->google-crc32c<2.0dev,>=1.0->google-resumable-media<3.0dev,>=0.6.0->google-cloud-bigquery<3.0.0dev,>=1.15.0->google-cloud-aiplatform==1.7.0) (2.21)\n",
      "Requirement already satisfied: kfp==1.8.9 in ./.local/lib/python3.7/site-packages (1.8.9)\n",
      "Requirement already satisfied: google-cloud-pipeline-components==0.2.0 in ./.local/lib/python3.7/site-packages (0.2.0)\n",
      "Requirement already satisfied: typing-extensions<4,>=3.7.4 in ./.local/lib/python3.7/site-packages (from kfp==1.8.9) (3.10.0.2)\n",
      "Requirement already satisfied: PyYAML<6,>=5.3 in ./.local/lib/python3.7/site-packages (from kfp==1.8.9) (5.4.1)\n",
      "Requirement already satisfied: absl-py<=0.11,>=0.9 in ./.local/lib/python3.7/site-packages (from kfp==1.8.9) (0.11.0)\n",
      "Requirement already satisfied: google-cloud-storage<2,>=1.20.0 in /opt/conda/lib/python3.7/site-packages (from kfp==1.8.9) (1.43.0)\n",
      "Requirement already satisfied: google-api-python-client<2,>=1.7.8 in ./.local/lib/python3.7/site-packages (from kfp==1.8.9) (1.12.8)\n",
      "Requirement already satisfied: jsonschema<4,>=3.0.1 in ./.local/lib/python3.7/site-packages (from kfp==1.8.9) (3.2.0)\n",
      "Requirement already satisfied: google-auth<2,>=1.6.1 in ./.local/lib/python3.7/site-packages (from kfp==1.8.9) (1.35.0)\n",
      "Requirement already satisfied: kfp-pipeline-spec<0.2.0,>=0.1.13 in ./.local/lib/python3.7/site-packages (from kfp==1.8.9) (0.1.13)\n",
      "Requirement already satisfied: strip-hints<1,>=0.1.8 in ./.local/lib/python3.7/site-packages (from kfp==1.8.9) (0.1.10)\n",
      "Requirement already satisfied: protobuf<4,>=3.13.0 in /opt/conda/lib/python3.7/site-packages (from kfp==1.8.9) (3.19.1)\n",
      "Requirement already satisfied: cloudpickle<3,>=2.0.0 in /opt/conda/lib/python3.7/site-packages (from kfp==1.8.9) (2.0.0)\n",
      "Requirement already satisfied: fire<1,>=0.3.1 in ./.local/lib/python3.7/site-packages (from kfp==1.8.9) (0.4.0)\n",
      "Requirement already satisfied: tabulate<1,>=0.8.6 in ./.local/lib/python3.7/site-packages (from kfp==1.8.9) (0.8.9)\n",
      "Requirement already satisfied: requests-toolbelt<1,>=0.8.0 in ./.local/lib/python3.7/site-packages (from kfp==1.8.9) (0.9.1)\n",
      "Requirement already satisfied: uritemplate<4,>=3.0.1 in /opt/conda/lib/python3.7/site-packages (from kfp==1.8.9) (3.0.1)\n",
      "Requirement already satisfied: kubernetes<19,>=8.0.0 in ./.local/lib/python3.7/site-packages (from kfp==1.8.9) (18.20.0)\n",
      "Requirement already satisfied: click<9,>=7.1.2 in /opt/conda/lib/python3.7/site-packages (from kfp==1.8.9) (8.0.3)\n",
      "Requirement already satisfied: Deprecated<2,>=1.2.7 in ./.local/lib/python3.7/site-packages (from kfp==1.8.9) (1.2.13)\n",
      "Requirement already satisfied: typer<1.0,>=0.3.2 in ./.local/lib/python3.7/site-packages (from kfp==1.8.9) (0.4.0)\n",
      "Requirement already satisfied: kfp-server-api<2.0.0,>=1.1.2 in ./.local/lib/python3.7/site-packages (from kfp==1.8.9) (1.7.1)\n",
      "Requirement already satisfied: docstring-parser<1,>=0.7.3 in ./.local/lib/python3.7/site-packages (from kfp==1.8.9) (0.13)\n",
      "Requirement already satisfied: pydantic<2,>=1.8.2 in /opt/conda/lib/python3.7/site-packages (from kfp==1.8.9) (1.8.2)\n",
      "Requirement already satisfied: google-api-core<2dev,>=1.26.0 in ./.local/lib/python3.7/site-packages (from google-cloud-pipeline-components==0.2.0) (1.31.4)\n",
      "Requirement already satisfied: google-cloud-notebooks>=0.4.0 in ./.local/lib/python3.7/site-packages (from google-cloud-pipeline-components==0.2.0) (1.1.1)\n",
      "Requirement already satisfied: google-cloud-aiplatform>=1.4.3 in ./.local/lib/python3.7/site-packages (from google-cloud-pipeline-components==0.2.0) (1.7.0)\n",
      "Requirement already satisfied: six in /opt/conda/lib/python3.7/site-packages (from absl-py<=0.11,>=0.9->kfp==1.8.9) (1.16.0)\n",
      "Requirement already satisfied: importlib-metadata in /opt/conda/lib/python3.7/site-packages (from click<9,>=7.1.2->kfp==1.8.9) (4.8.2)\n",
      "Requirement already satisfied: wrapt<2,>=1.10 in /opt/conda/lib/python3.7/site-packages (from Deprecated<2,>=1.2.7->kfp==1.8.9) (1.13.3)\n",
      "Requirement already satisfied: termcolor in /opt/conda/lib/python3.7/site-packages (from fire<1,>=0.3.1->kfp==1.8.9) (1.1.0)\n",
      "Requirement already satisfied: packaging>=14.3 in /opt/conda/lib/python3.7/site-packages (from google-api-core<2dev,>=1.26.0->google-cloud-pipeline-components==0.2.0) (21.0)\n",
      "Requirement already satisfied: googleapis-common-protos<2.0dev,>=1.6.0 in /opt/conda/lib/python3.7/site-packages (from google-api-core<2dev,>=1.26.0->google-cloud-pipeline-components==0.2.0) (1.53.0)\n",
      "Requirement already satisfied: pytz in /opt/conda/lib/python3.7/site-packages (from google-api-core<2dev,>=1.26.0->google-cloud-pipeline-components==0.2.0) (2021.3)\n",
      "Requirement already satisfied: requests<3.0.0dev,>=2.18.0 in /opt/conda/lib/python3.7/site-packages (from google-api-core<2dev,>=1.26.0->google-cloud-pipeline-components==0.2.0) (2.25.1)\n",
      "Requirement already satisfied: setuptools>=40.3.0 in /opt/conda/lib/python3.7/site-packages (from google-api-core<2dev,>=1.26.0->google-cloud-pipeline-components==0.2.0) (59.1.1)\n",
      "Requirement already satisfied: google-auth-httplib2>=0.0.3 in /opt/conda/lib/python3.7/site-packages (from google-api-python-client<2,>=1.7.8->kfp==1.8.9) (0.1.0)\n",
      "Requirement already satisfied: httplib2<1dev,>=0.15.0 in /opt/conda/lib/python3.7/site-packages (from google-api-python-client<2,>=1.7.8->kfp==1.8.9) (0.20.2)\n",
      "Requirement already satisfied: rsa<5,>=3.1.4 in /opt/conda/lib/python3.7/site-packages (from google-auth<2,>=1.6.1->kfp==1.8.9) (4.7.2)\n",
      "Requirement already satisfied: cachetools<5.0,>=2.0.0 in /opt/conda/lib/python3.7/site-packages (from google-auth<2,>=1.6.1->kfp==1.8.9) (4.2.4)\n",
      "Requirement already satisfied: pyasn1-modules>=0.2.1 in /opt/conda/lib/python3.7/site-packages (from google-auth<2,>=1.6.1->kfp==1.8.9) (0.2.7)\n",
      "Requirement already satisfied: google-cloud-bigquery<3.0.0dev,>=1.15.0 in /opt/conda/lib/python3.7/site-packages (from google-cloud-aiplatform>=1.4.3->google-cloud-pipeline-components==0.2.0) (2.30.1)\n",
      "Requirement already satisfied: proto-plus>=1.10.1 in /opt/conda/lib/python3.7/site-packages (from google-cloud-aiplatform>=1.4.3->google-cloud-pipeline-components==0.2.0) (1.19.8)\n",
      "Requirement already satisfied: google-cloud-core<3.0dev,>=1.6.0 in /opt/conda/lib/python3.7/site-packages (from google-cloud-storage<2,>=1.20.0->kfp==1.8.9) (2.2.1)\n",
      "Requirement already satisfied: google-resumable-media<3.0dev,>=1.3.0 in /opt/conda/lib/python3.7/site-packages (from google-cloud-storage<2,>=1.20.0->kfp==1.8.9) (2.1.0)\n",
      "Requirement already satisfied: pyrsistent>=0.14.0 in /opt/conda/lib/python3.7/site-packages (from jsonschema<4,>=3.0.1->kfp==1.8.9) (0.18.0)\n",
      "Requirement already satisfied: attrs>=17.4.0 in /opt/conda/lib/python3.7/site-packages (from jsonschema<4,>=3.0.1->kfp==1.8.9) (21.2.0)\n",
      "Requirement already satisfied: urllib3>=1.15 in /opt/conda/lib/python3.7/site-packages (from kfp-server-api<2.0.0,>=1.1.2->kfp==1.8.9) (1.26.7)\n",
      "Requirement already satisfied: python-dateutil in /opt/conda/lib/python3.7/site-packages (from kfp-server-api<2.0.0,>=1.1.2->kfp==1.8.9) (2.8.2)\n",
      "Requirement already satisfied: certifi in /opt/conda/lib/python3.7/site-packages (from kfp-server-api<2.0.0,>=1.1.2->kfp==1.8.9) (2021.10.8)\n",
      "Requirement already satisfied: requests-oauthlib in /opt/conda/lib/python3.7/site-packages (from kubernetes<19,>=8.0.0->kfp==1.8.9) (1.3.0)\n",
      "Requirement already satisfied: websocket-client!=0.40.0,!=0.41.*,!=0.42.*,>=0.32.0 in /opt/conda/lib/python3.7/site-packages (from kubernetes<19,>=8.0.0->kfp==1.8.9) (1.2.1)\n",
      "Requirement already satisfied: wheel in /opt/conda/lib/python3.7/site-packages (from strip-hints<1,>=0.1.8->kfp==1.8.9) (0.37.0)\n",
      "Requirement already satisfied: grpcio<2.0dev,>=1.29.0 in /opt/conda/lib/python3.7/site-packages (from google-api-core<2dev,>=1.26.0->google-cloud-pipeline-components==0.2.0) (1.42.0)\n",
      "Requirement already satisfied: google-crc32c<2.0dev,>=1.0 in /opt/conda/lib/python3.7/site-packages (from google-resumable-media<3.0dev,>=1.3.0->google-cloud-storage<2,>=1.20.0->kfp==1.8.9) (1.1.2)\n",
      "Requirement already satisfied: pyparsing!=3.0.0,!=3.0.1,!=3.0.2,!=3.0.3,<4,>=2.4.2 in /opt/conda/lib/python3.7/site-packages (from httplib2<1dev,>=0.15.0->google-api-python-client<2,>=1.7.8->kfp==1.8.9) (3.0.6)\n",
      "Requirement already satisfied: pyasn1<0.5.0,>=0.4.6 in /opt/conda/lib/python3.7/site-packages (from pyasn1-modules>=0.2.1->google-auth<2,>=1.6.1->kfp==1.8.9) (0.4.8)\n",
      "Requirement already satisfied: idna<3,>=2.5 in /opt/conda/lib/python3.7/site-packages (from requests<3.0.0dev,>=2.18.0->google-api-core<2dev,>=1.26.0->google-cloud-pipeline-components==0.2.0) (2.10)\n",
      "Requirement already satisfied: chardet<5,>=3.0.2 in /opt/conda/lib/python3.7/site-packages (from requests<3.0.0dev,>=2.18.0->google-api-core<2dev,>=1.26.0->google-cloud-pipeline-components==0.2.0) (4.0.0)\n",
      "Requirement already satisfied: zipp>=0.5 in /opt/conda/lib/python3.7/site-packages (from importlib-metadata->click<9,>=7.1.2->kfp==1.8.9) (3.6.0)\n",
      "Requirement already satisfied: oauthlib>=3.0.0 in /opt/conda/lib/python3.7/site-packages (from requests-oauthlib->kubernetes<19,>=8.0.0->kfp==1.8.9) (3.1.1)\n",
      "Requirement already satisfied: cffi>=1.0.0 in /opt/conda/lib/python3.7/site-packages (from google-crc32c<2.0dev,>=1.0->google-resumable-media<3.0dev,>=1.3.0->google-cloud-storage<2,>=1.20.0->kfp==1.8.9) (1.15.0)\n",
      "Requirement already satisfied: pycparser in /opt/conda/lib/python3.7/site-packages (from cffi>=1.0.0->google-crc32c<2.0dev,>=1.0->google-resumable-media<3.0dev,>=1.3.0->google-cloud-storage<2,>=1.20.0->kfp==1.8.9) (2.21)\n"
     ]
    }
   ],
   "source": [
    "USER_FLAG = \"--user\"\n",
    "!pip3 install {USER_FLAG} google-cloud-aiplatform==1.7.0 --upgrade\n",
    "!pip3 install {USER_FLAG} kfp==1.8.9 google-cloud-pipeline-components==0.2.0"
   ]
  },
  {
   "cell_type": "code",
   "execution_count": 2,
   "id": "13c82eb5-9c17-49ad-9a1b-397f57539029",
   "metadata": {},
   "outputs": [],
   "source": [
    "import os\n",
    "\n",
    "if not os.getenv(\"IS_TESTING\") and False:\n",
    "    # Automatically restart kernel after installs\n",
    "    import IPython\n",
    "\n",
    "    app = IPython.Application.instance()\n",
    "    app.kernel.do_shutdown(True)"
   ]
  },
  {
   "cell_type": "code",
   "execution_count": 3,
   "id": "febfa32f-9f46-46e1-aaa6-8ee1c293564d",
   "metadata": {},
   "outputs": [
    {
     "name": "stdout",
     "output_type": "stream",
     "text": [
      "KFP SDK version: 1.8.9\n",
      "google_cloud_pipeline_components version: 0.2.0\n"
     ]
    }
   ],
   "source": [
    "!python3 -c \"import kfp; print('KFP SDK version: {}'.format(kfp.__version__))\"\n",
    "!python3 -c \"import google_cloud_pipeline_components; print('google_cloud_pipeline_components version: {}'.format(google_cloud_pipeline_components.__version__))\""
   ]
  },
  {
   "cell_type": "code",
   "execution_count": 63,
   "id": "86930615-c3b2-43ac-abdf-92fc197d2a1a",
   "metadata": {},
   "outputs": [],
   "source": [
    "PROJECT_ID: str = \"\" #redacted\n",
    "BUCKET_NAME: str = \"gs://dsa-ross\""
   ]
  },
  {
   "cell_type": "code",
   "execution_count": 146,
   "id": "6e877dce-008f-49ff-8be9-30d2440a9441",
   "metadata": {},
   "outputs": [],
   "source": [
    "from datetime import datetime\n",
    "\n",
    "TIMESTAMP = datetime.now().strftime(\"%Y%m%d%H%M%S\")"
   ]
  },
  {
   "cell_type": "code",
   "execution_count": null,
   "id": "82c932a2-222c-4d45-8100-d459448dbe59",
   "metadata": {},
   "outputs": [],
   "source": [
    "import kfp\n",
    "\n",
    "from kfp.v2 import compiler, dsl\n",
    "from kfp.v2.dsl import component, pipeline, Artifact, ClassificationMetrics, Input, Output, Model, Metrics, Dataset, OutputPath, importer, Condition\n",
    "from kfp.v2.google import experimental\n",
    "from kfp.v2.google.client import AIPlatformClient\n",
    "\n",
    "from google.cloud import aiplatform as aip\n",
    "from google.cloud import storage\n",
    "from google_cloud_pipeline_components import aiplatform as gcc_aip\n",
    "from typing import NamedTuple"
   ]
  },
  {
   "cell_type": "code",
   "execution_count": 6,
   "id": "c83887e7-45e5-46c3-8d6e-b1cf29e776ee",
   "metadata": {},
   "outputs": [
    {
     "name": "stdout",
     "output_type": "stream",
     "text": [
      "env: PATH=/usr/local/cuda/bin:/opt/conda/bin:/opt/conda/condabin:/usr/local/bin:/usr/bin:/bin:/usr/local/games:/usr/games:/home/jupyter/.local/bin\n"
     ]
    },
    {
     "data": {
      "text/plain": [
       "'gs://dsa-ross/pipeline_root/'"
      ]
     },
     "execution_count": 6,
     "metadata": {},
     "output_type": "execute_result"
    }
   ],
   "source": [
    "PATH = %env PATH\n",
    "%env PATH = {PATH}:/home/jupyter/.local/bin\n",
    "REGION = \"us-central1\"\n",
    "\n",
    "PIPELINE_ROOT = f\"{BUCKET_NAME}/pipeline_root/\"\n",
    "PIPELINE_ROOT"
   ]
  },
  {
   "cell_type": "code",
   "execution_count": 10,
   "id": "acf65785-4162-4ede-b334-bd8066995b2f",
   "metadata": {},
   "outputs": [
    {
     "name": "stdout",
     "output_type": "stream",
     "text": [
      "Updated property [core/project].\n"
     ]
    }
   ],
   "source": [
    "! gcloud config set project REDACTED"
   ]
  },
  {
   "cell_type": "code",
   "execution_count": 12,
   "id": "5c421efe-f053-4d22-8e2e-260da9c5987f",
   "metadata": {},
   "outputs": [
    {
     "name": "stdout",
     "output_type": "stream",
     "text": [
      "     45010  2021-11-22T03:23:36Z  gs://dsa-ross/store.csv#1637551416983830  metageneration=1\n",
      "     34508  2021-11-22T03:23:23Z  gs://dsa-ross/train_sample.csv#1637551403833928  metageneration=1\n",
      "TOTAL: 2 objects, 79518 bytes (77.65 KiB)\n"
     ]
    }
   ],
   "source": [
    "! gsutil ls -al $BUCKET_NAME"
   ]
  },
  {
   "cell_type": "code",
   "execution_count": 402,
   "id": "75c97f54-86b0-4acb-978d-fe79860b87c8",
   "metadata": {},
   "outputs": [],
   "source": [
    "aip.init(project=PROJECT_ID, staging_bucket=BUCKET_NAME)"
   ]
  },
  {
   "cell_type": "code",
   "execution_count": 403,
   "id": "1c46d8a8-7581-47e1-a042-8c053aaec59b",
   "metadata": {},
   "outputs": [],
   "source": [
    "# @component( packages_to_install=['pandas==1.1.4'], output_component_file='mergedat.yaml' )\n",
    "@component( packages_to_install=['pandas==1.1.4'] )\n",
    "def merge_dat(store: Input[Dataset], train: Input[Dataset], merged_out_csv: Output[Dataset]):\n",
    "    \n",
    "    import pandas as pd\n",
    "    \n",
    "    store_df = pd.read_csv(store.path)\n",
    "    train_df = pd.read_csv(train.path, parse_dates=['Date'])\n",
    "    \n",
    "    merged_df = train_df.merge(store_df, left_on='Store', right_on='Store')\n",
    "    merged_df['StateHoliday'] = merged_df['StateHoliday'].replace(0,'0')\n",
    "    merged_df = merged_df.sort_values(by=['Date','Store'])\n",
    "    \n",
    "    merged_df.to_csv(merged_out_csv.path, index=False)"
   ]
  },
  {
   "cell_type": "code",
   "execution_count": 404,
   "id": "37fe7ead-7787-4962-b77c-23b624682101",
   "metadata": {},
   "outputs": [],
   "source": [
    "@component( packages_to_install=['pandas==1.1.4'] )\n",
    "def feature_eng(merged: Input[Dataset], engineer_out_csv: Output[Dataset]):\n",
    "    import pandas as pd\n",
    "    \n",
    "    merged_df = pd.read_csv(merged.path, parse_dates=['Date'])\n",
    "    merged_df['StateHoliday'] = merged_df['StateHoliday'].replace(0,'0')\n",
    "    \n",
    "    datesplit = merged_df.Date.astype(str).apply(lambda x: x.split('-'))\n",
    "    years = [i[0] for i in datesplit]\n",
    "    months = [i[1] for i in datesplit]\n",
    "    days = [i[2] for i in datesplit]\n",
    "    merged_df['year'] = years\n",
    "    merged_df['year'] = merged_df['year'].astype(int)\n",
    "    merged_df['month'] = months\n",
    "    merged_df['month'] = merged_df['month'].astype(int)\n",
    "    merged_df['day'] = days\n",
    "    merged_df['day'] = merged_df['day'].astype(int)\n",
    "    \n",
    "    merged_df = merged_df.drop(['Date', 'Customers'], axis=1) #make sure to drop custs!\n",
    "    merged_df.to_csv(engineer_out_csv.path, index=False)"
   ]
  },
  {
   "cell_type": "code",
   "execution_count": 405,
   "id": "aabdd0c9-8d2f-4cd5-b656-db0cc0854516",
   "metadata": {},
   "outputs": [],
   "source": [
    "@component( packages_to_install=['pandas==1.1.4','sklearn','joblib','google-cloud'] )\n",
    "def prep( df: Input[Dataset], train_csv: Output[Dataset], test_csv: Output[Dataset], ordinalEnc: Output[Model], ord_name: str ):\n",
    "    \n",
    "    import pandas as pd\n",
    "    from sklearn.preprocessing import OrdinalEncoder\n",
    "    from sklearn.model_selection import train_test_split\n",
    "    import joblib\n",
    "\n",
    "    merged_df = pd.read_csv(df.path)\n",
    "    merged_df['StateHoliday'] = merged_df['StateHoliday'].replace(0,'0')\n",
    "    \n",
    "    categoricals = merged_df.select_dtypes(object).columns\n",
    "    ord_enc = OrdinalEncoder()\n",
    "    merged_df[categoricals] = ord_enc.fit_transform(merged_df[categoricals])\n",
    "    \n",
    "    train, test = train_test_split(merged_df, shuffle=False, random_state=42)\n",
    "    \n",
    "    train.to_csv(train_csv.path, index=False)\n",
    "    test.to_csv(test_csv.path, index=False)\n",
    "    \n",
    "    ordinalEnc.metadata[\"framework\"] = \"scikit-learn\"\n",
    "    joblib.dump(ord_enc, ordinalEnc.path)\n",
    "    \n",
    "    from google.cloud import storage\n",
    "    storage_client = storage.Client()\n",
    "    bucket = storage_client.bucket(\"dsa-ross\")\n",
    "    blob = bucket.blob(ord_name)\n",
    "    blob.upload_from_filename(ordinalEnc.path)"
   ]
  },
  {
   "cell_type": "code",
   "execution_count": 456,
   "id": "fb3a5337-3376-4f44-9828-fc6dc08b1bac",
   "metadata": {},
   "outputs": [],
   "source": [
    "@component( packages_to_install=['pandas==1.1.4','xgboost', 'sktime','google-cloud'])\n",
    "def train_xgbreg(train_df: Input[Dataset], xgbreg_model: Output[Model])-> NamedTuple(\"Outputs\", [(\"xgb_path\", str)]):\n",
    "    from xgboost import XGBRegressor\n",
    "    from sktime.performance_metrics.forecasting import MeanSquaredPercentageError\n",
    "    import pandas as pd\n",
    "    \n",
    "    \n",
    "    train = pd.read_csv(train_df.path)\n",
    "    X = train.drop('Sales', axis=1)\n",
    "    y = train[['Sales']]\n",
    "    \n",
    "    #TODO: GPU\n",
    "    # model = XGBRegressor(random_state=42, n_jobs=-1, n_estimators=1000, max_depth=5, tree_method='gpu_hist', eval_metric=MeanSquaredPercentageError(square_root=True))\n",
    "    model = XGBRegressor(random_state=42, n_jobs=-1, n_estimators=1500, max_depth=5, eval_metric=MeanSquaredPercentageError(square_root=True))\n",
    "    model.fit(X, y)\n",
    "    \n",
    "    y_tr_nonzero = y[(y.values > 0)]\n",
    "    X_tr_nonzero = X[(y.values > 0)]\n",
    "    preds_nz = model.predict(X_tr_nonzero)\n",
    "    rmspe = MeanSquaredPercentageError(square_root=True)\n",
    "    train_rmspe = rmspe(y_tr_nonzero, preds_nz)\n",
    "    \n",
    "    xgbreg_model.metadata[\"train_score\"] = float(train_rmspe)\n",
    "    xgbreg_model.metadata[\"framework\"] = \"XGBoost\"\n",
    "    model.save_model(xgbreg_model.path)\n",
    "    \n",
    "    from google.cloud import storage\n",
    "    storage_client = storage.Client()\n",
    "    bucket = storage_client.bucket(\"dsa-ross\")\n",
    "    blob = bucket.blob(\"xgb/model.bst\")\n",
    "    blob.upload_from_filename(xgbreg_model.path)\n",
    "    return (xgbreg_model.path,)\n"
   ]
  },
  {
   "cell_type": "code",
   "execution_count": 457,
   "id": "136f8dc7-96e1-4f49-853b-151a969e3b14",
   "metadata": {},
   "outputs": [],
   "source": [
    "@component( packages_to_install=['pandas==1.1.4','xgboost', 'sktime', 'sklearn'])\n",
    "def eval_model(test_df: Input[Dataset], trained_xgb: Input[Model], metrics: Output[ClassificationMetrics], smetrics: Output[Metrics]\n",
    "              ) -> NamedTuple(\"Outputs\", [(\"dep_decision\", str)]):\n",
    "    from xgboost import XGBRegressor\n",
    "    from sktime.performance_metrics.forecasting import MeanSquaredPercentageError\n",
    "    import pandas as pd\n",
    "    import logging\n",
    "    \n",
    "    test = pd.read_csv(test_df.path)\n",
    "    X = test.drop('Sales', axis=1)\n",
    "    y = test[['Sales']]\n",
    "    \n",
    "    model = XGBRegressor()\n",
    "    model.load_model(trained_xgb.path)\n",
    "    \n",
    "    y_te_nonzero = y[(y.values > 0)]\n",
    "    X_te_nonzero = X[(y.values > 0)]\n",
    "    preds_nz = model.predict(X_te_nonzero)\n",
    "    rmspe = MeanSquaredPercentageError(square_root=True)\n",
    "    test_rmspe = rmspe(y_te_nonzero, preds_nz)\n",
    "    \n",
    "    #TODO: ROC for regression graph?\n",
    "    # from sklearn.metrics import roc_curve\n",
    "    # # y_scores =  model.predict_proba(data.drop(columns=[\"target\"]))[:, 1]\n",
    "    # fpr, tpr, thresholds = roc_curve(\n",
    "    #      y_true=y_te_nonzero, y_score=preds_nz, pos_label=True\n",
    "    # )\n",
    "    # metrics.log_roc_curve(fpr.tolist(), tpr.tolist(), thresholds.tolist())\n",
    "    \n",
    "    decision = \"yes\"\n",
    "    if float(test_rmspe) >= 0.5: decision = \"no\"\n",
    "    logging.getLogger().setLevel(logging.INFO)\n",
    "    logging.info(f\"deployment decision is {decision}\")\n",
    "    \n",
    "    trained_xgb.metadata[\"test_score\"] = float(test_rmspe)\n",
    "    smetrics.log_metric(\"score\", float(test_rmspe))\n",
    "    # smetrics.log_metric(\"RMSPE Score\", float(test_rmspe))\n",
    "    \n",
    "    return (decision,)"
   ]
  },
  {
   "cell_type": "code",
   "execution_count": 458,
   "id": "60a3c575-6328-4824-82bc-49e5cdda8a63",
   "metadata": {},
   "outputs": [],
   "source": [
    "@component\n",
    "def get_xgb_path(xgb:Input[Model]) -> str:\n",
    "    return xgb.path"
   ]
  },
  {
   "cell_type": "code",
   "execution_count": 460,
   "id": "0b7f11f4-a7aa-4e64-9fbd-21dbdffd539c",
   "metadata": {},
   "outputs": [],
   "source": [
    "WORKING_DIR = f\"{PIPELINE_ROOT}977584873066/ross-xgb-{TIMESTAMP}\"\n",
    "@dsl.pipeline( name=\"ross-xgb\", description=\"Rossman XGB Regression Pipe\", pipeline_root=PIPELINE_ROOT,)\n",
    "def pipe1(project: str=PROJECT_ID,\n",
    "          gcp_region: str = \"us-central1\", api_endpoint: str = \"us-central1-aiplatform.googleapis.com\",\n",
    "          model_display_name: str = f\"trained{TIMESTAMP}\",\n",
    "          serving_container_image_uri: str = \"us-docker.pkg.dev/vertex-ai/prediction/xgboost-cpu.1-4:latest\",):\n",
    "    store = importer(\n",
    "        artifact_uri=f\"gs://dsa-ross/store.csv\",\n",
    "        artifact_class=Dataset,\n",
    "        reimport=False,\n",
    "    )\n",
    "    train = importer(\n",
    "        artifact_uri=f\"gs://dsa-ross/train.csv\",\n",
    "        # artifact_uri=f\"gs://dsa-ross/train_sample.csv\",\n",
    "        artifact_class=Dataset,\n",
    "        reimport=False,\n",
    "    )\n",
    "    merged = merge_dat(store=store.output, train=train.output)\n",
    "    featured = feature_eng(merged=merged.outputs[\"merged_out_csv\"])\n",
    "    prepped = prep(df=featured.outputs[\"engineer_out_csv\"], ord_name=f\"ord{model_display_name}.joblib\")\n",
    "    train = train_xgbreg(train_df=prepped.outputs[\"train_csv\"])\n",
    "    # train = train_xgbreg(train_df=prepped.outputs[\"train_csv\"]).add_node_selector_constraint(label_name=\"cloud.google.com/gke-accelerator\",  value=\"NVIDIA_TESLA_T4\" ).set_gpu_limit(1)\n",
    "    # train = train_xgbreg(train_df=prepped.outputs[\"train_csv\"]).apply(kf.gcp.use_preemptible_nodepool()).set_gpu_limit( 1, 'nvidia')\n",
    "    evals = eval_model(test_df=prepped.outputs[\"test_csv\"], trained_xgb=train.outputs[\"xgbreg_model\"])\n",
    "    # import logging\n",
    "    # logging.getLogger().setLevel(logging.INFO)\n",
    "    # xgb_path = get_xgb_path(xgb=train.outputs[\"xgbreg_model\"]).output\n",
    "    # logging.info(f\"xgb path is {xgb_path}\")\n",
    "    \n",
    "    with dsl.Condition(\n",
    "        evals.outputs[\"dep_decision\"] == \"yes\",\n",
    "        name=\"deploy_decision\",\n",
    "    ):\n",
    "        model_upload = gcc_aip.ModelUploadOp(\n",
    "            project=project,\n",
    "            display_name=model_display_name,\n",
    "            artifact_uri=\"gs://dsa-ross/xgb\",\n",
    "            # artifact_uri=train.outputs[\"xgb_path\"],\n",
    "            # artifact_uri=WORKING_DIR,\n",
    "            serving_container_image_uri=serving_container_image_uri,\n",
    "        # serving_container_environment_variables={\"NOT_USED\": \"NO_VALUE\"},\n",
    "        )\n",
    "        model_upload.after(train)\n",
    "        \n",
    "        endpoint_op = gcc_aip.EndpointCreateOp(\n",
    "            project=project,\n",
    "            location=gcp_region,\n",
    "            display_name=\"Rossman_XGBRegressor\",\n",
    "        )\n",
    "        gcc_aip.ModelDeployOp(\n",
    "            model=model_upload.outputs[\"model\"],\n",
    "            endpoint=endpoint_op.outputs[\"endpoint\"],\n",
    "            dedicated_resources_min_replica_count=1,\n",
    "            dedicated_resources_max_replica_count=1,\n",
    "            dedicated_resources_machine_type=\"n1-standard-4\",\n",
    "        )\n",
    "        "
   ]
  },
  {
   "cell_type": "code",
   "execution_count": 461,
   "id": "8545daa7-af67-4774-85fc-dc4f664d9785",
   "metadata": {},
   "outputs": [],
   "source": [
    "TIMESTAMP = datetime.now().strftime(\"%Y%m%d%H%M%S\")"
   ]
  },
  {
   "cell_type": "code",
   "execution_count": 462,
   "id": "c9c0969d-4bce-450d-8dc4-1e3d7c874971",
   "metadata": {},
   "outputs": [],
   "source": [
    "compiler.Compiler().compile(pipeline_func=pipe1, package_path=\"pipe1.json\")"
   ]
  },
  {
   "cell_type": "code",
   "execution_count": 464,
   "id": "20aa3611-0691-4f4b-8165-3e829e204d21",
   "metadata": {},
   "outputs": [],
   "source": [
    "from google.cloud import storage\n",
    "storage_client = storage.Client()\n",
    "bucket = storage_client.bucket(\"dsa-ross\")\n",
    "blob = bucket.blob(\"dsa-rossman-pipe\")\n",
    "blob.upload_from_filename(\"pipe1.json\")"
   ]
  },
  {
   "cell_type": "code",
   "execution_count": null,
   "id": "4f726f2d-081e-42f7-ac37-3ce410553e7e",
   "metadata": {},
   "outputs": [],
   "source": [
    "DISPLAY_NAME = f\"dsa-rossman-{TIMESTAMP}\"\n",
    "\n",
    "job = aip.PipelineJob(\n",
    "    display_name=DISPLAY_NAME,\n",
    "    template_path=\"pipe1.json\",\n",
    "    pipeline_root=PIPELINE_ROOT,\n",
    "    # parameter_values={},\n",
    ")\n",
    "\n",
    "job.run()"
   ]
  },
  {
   "cell_type": "code",
   "execution_count": null,
   "id": "0641ce3d-4fe8-4e97-8cf2-b275f8738d51",
   "metadata": {},
   "outputs": [],
   "source": [
    "# api_client = AIPlatformClient(project_id=PROJECT_ID, region=\"us-central1\")\n",
    "\n",
    "# api_client.create_schedule_from_job_spec(\n",
    "#     job_spec_path=\"pipe1.json\",\n",
    "#     schedule=0 0 * * 0,\n",
    "#     # time_zone=TIME_ZONE,\n",
    "#     # parameter_values=PIPELINE_PARAMETERS\n",
    "# )"
   ]
  }
 ],
 "metadata": {
  "environment": {
   "kernel": "python3",
   "name": "tf2-gpu.2-7.m86",
   "type": "gcloud",
   "uri": "gcr.io/deeplearning-platform-release/tf2-gpu.2-7:m86"
  },
  "kernelspec": {
   "display_name": "Python 3",
   "language": "python",
   "name": "python3"
  },
  "language_info": {
   "codemirror_mode": {
    "name": "ipython",
    "version": 3
   },
   "file_extension": ".py",
   "mimetype": "text/x-python",
   "name": "python",
   "nbconvert_exporter": "python",
   "pygments_lexer": "ipython3",
   "version": "3.7.12"
  }
 },
 "nbformat": 4,
 "nbformat_minor": 5
}
